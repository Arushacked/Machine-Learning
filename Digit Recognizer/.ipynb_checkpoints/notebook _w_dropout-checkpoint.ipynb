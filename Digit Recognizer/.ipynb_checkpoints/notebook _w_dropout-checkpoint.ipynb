{
 "cells": [
  {
   "cell_type": "markdown",
   "metadata": {},
   "source": [
    "# Digit Recogniser\n",
    "In this notebook , I have used the famous **mnist dataset** of grayscale digit images to make a **CNN** model to recognize digits .\n",
    "- This is the second notebook of series .In the first notebook , I trained a CNN model without dropout .\n",
    "- My first model was overfitted on the training data.\n",
    "- So here I show you the **magic of adding a few Dropout Layers**."
   ]
  },
  {
   "cell_type": "markdown",
   "metadata": {},
   "source": [
    "#### Let's Load the dataset"
   ]
  },
  {
   "cell_type": "code",
   "execution_count": 1,
   "metadata": {},
   "outputs": [
    {
     "name": "stderr",
     "output_type": "stream",
     "text": [
      "Using TensorFlow backend.\n"
     ]
    }
   ],
   "source": [
    "from keras.datasets import mnist \n",
    "from keras.utils import np_utils\n",
    "# the data, shuffled and split between train and test sets \n",
    "(x_train, y_train), (x_test, y_test) = mnist.load_data()"
   ]
  },
  {
   "cell_type": "markdown",
   "metadata": {},
   "source": [
    "This section is for beginners:\n",
    "- output_dim is the length of the of output of our CNN (10 for ten digits)\n",
    "- **batch_size** is the number of images that will be used per batch in one epoch of our CNN model.You can play with this number on your local machine.\n",
    "- After processing every batch ,weigths of the mmodel are updated.\n",
    "- Number of batches per epoch = Total number of images / batch_size\n",
    "- **nb_epochs** is the number of itterations for which whole set of images will be processed in the form of batches.\n",
    "- I have taken a quite high number(50) beacause I was playing with the model on GPU.\n",
    "- If you are using a CPU , it might take some time to fit.(You can use the weights that I have provided in the repository)\n",
    "- 10 epochs is sufficient for your purpose if you are using cpu."
   ]
  },
  {
   "cell_type": "code",
   "execution_count": 5,
   "metadata": {},
   "outputs": [],
   "source": [
    "output_dim = nb_classes = 10 \n",
    "batch_size = 512 \n",
    "nb_epoch = 50"
   ]
  },
  {
   "cell_type": "markdown",
   "metadata": {},
   "source": [
    "# Preprocessing and analysing\n",
    "- Analysing our data and preparing it for the input format of our \n",
    "- Addded an extra channel dimension to the X and one hot encoded the Y.\n",
    "- Normalized the data from (0-255) to (0.0 - 1.0 ) by dividing by 255"
   ]
  },
  {
   "cell_type": "code",
   "execution_count": 6,
   "metadata": {},
   "outputs": [
    {
     "name": "stdout",
     "output_type": "stream",
     "text": [
      "x_train shape:  (60000, 28, 28)\n",
      "X_train shape:  (60000, 28, 28, 1)\n",
      "Y_train shape:  (60000, 10)\n",
      "X_test shape:  (10000, 28, 28, 1)\n",
      "Y_test shape:  (10000, 10)\n"
     ]
    }
   ],
   "source": [
    "input_dim = 784 #28*28*1\n",
    "print('x_train shape: ',x_train.shape)\n",
    "X_train = x_train.reshape(60000, 28,28,1) \n",
    "X_test = x_test.reshape(10000, 28,28,1) \n",
    "X_train = X_train.astype('float32') \n",
    "X_test = X_test.astype('float32') \n",
    "X_train /= 255 \n",
    "X_test /= 255\n",
    "Y_train = np_utils.to_categorical(y_train, nb_classes) \n",
    "Y_test = np_utils.to_categorical(y_test, nb_classes)\n",
    "print('X_train shape: ',X_train.shape)\n",
    "print('Y_train shape: ',Y_train.shape)\n",
    "print('X_test shape: ',X_test.shape)\n",
    "print('Y_test shape: ',Y_test.shape)"
   ]
  },
  {
   "cell_type": "markdown",
   "metadata": {},
   "source": [
    "# Initializing a CNN model"
   ]
  },
  {
   "cell_type": "code",
   "execution_count": 7,
   "metadata": {},
   "outputs": [],
   "source": [
    "from keras.models import Sequential \n",
    "from keras.layers import Dense, Activation,Dropout, Flatten,Conv2D, MaxPooling2D\n",
    "import keras"
   ]
  },
  {
   "cell_type": "code",
   "execution_count": 8,
   "metadata": {},
   "outputs": [
    {
     "name": "stdout",
     "output_type": "stream",
     "text": [
      "Model: \"sequential_1\"\n",
      "_________________________________________________________________\n",
      "Layer (type)                 Output Shape              Param #   \n",
      "=================================================================\n",
      "conv2d_1 (Conv2D)            (None, 26, 26, 32)        320       \n",
      "_________________________________________________________________\n",
      "conv2d_2 (Conv2D)            (None, 24, 24, 64)        18496     \n",
      "_________________________________________________________________\n",
      "max_pooling2d_1 (MaxPooling2 (None, 12, 12, 64)        0         \n",
      "_________________________________________________________________\n",
      "dropout_1 (Dropout)          (None, 12, 12, 64)        0         \n",
      "_________________________________________________________________\n",
      "conv2d_3 (Conv2D)            (None, 10, 10, 128)       73856     \n",
      "_________________________________________________________________\n",
      "conv2d_4 (Conv2D)            (None, 8, 8, 256)         295168    \n",
      "_________________________________________________________________\n",
      "max_pooling2d_2 (MaxPooling2 (None, 4, 4, 256)         0         \n",
      "_________________________________________________________________\n",
      "dropout_2 (Dropout)          (None, 4, 4, 256)         0         \n",
      "_________________________________________________________________\n",
      "flatten_1 (Flatten)          (None, 4096)              0         \n",
      "_________________________________________________________________\n",
      "dense_1 (Dense)              (None, 250)               1024250   \n",
      "_________________________________________________________________\n",
      "dropout_3 (Dropout)          (None, 250)               0         \n",
      "_________________________________________________________________\n",
      "dense_2 (Dense)              (None, 50)                12550     \n",
      "_________________________________________________________________\n",
      "dense_3 (Dense)              (None, 10)                510       \n",
      "=================================================================\n",
      "Total params: 1,425,150\n",
      "Trainable params: 1,425,150\n",
      "Non-trainable params: 0\n",
      "_________________________________________________________________\n"
     ]
    }
   ],
   "source": [
    "model = Sequential()\n",
    "model.add(Conv2D(32, kernel_size=(3, 3),\n",
    "                 activation='relu',\n",
    "                 input_shape=(28,28,1)))\n",
    "model.add(Conv2D(64, (3, 3), activation='relu'))\n",
    "model.add(MaxPooling2D(pool_size=(2, 2)))\n",
    "model.add(Dropout(0.25))\n",
    "\n",
    "model.add(Conv2D(128, (3, 3), activation='relu'))\n",
    "model.add(Conv2D(256, (3, 3), activation='relu'))\n",
    "model.add(MaxPooling2D(pool_size=(2, 2)))\n",
    "model.add(Dropout(0.5))\n",
    "model.add(Flatten())\n",
    "model.add(Dense(250, activation='relu'))\n",
    "model.add(Dropout(0.25))\n",
    "model.add(Dense(50, activation='relu'))\n",
    "model.add(Dense(nb_classes, activation='softmax'))\n",
    "model.compile(loss=keras.losses.categorical_crossentropy,\n",
    "              optimizer=keras.optimizers.Adadelta(),\n",
    "              metrics=['accuracy'])\n",
    "model.summary()"
   ]
  },
  {
   "cell_type": "markdown",
   "metadata": {},
   "source": [
    "# Saving the best model is very important \n",
    "- Criteria should be based on validation data rather than train data\n",
    "- This saves your model checkpoints every time ,when there is a improvement in validation accuracy\n",
    "- You can change the model name otherwise it wiil replace the provided model in directory."
   ]
  },
  {
   "cell_type": "code",
   "execution_count": 9,
   "metadata": {},
   "outputs": [],
   "source": [
    "import os\n",
    "import tensorflow as tf\n",
    "# with(w) dropout\n",
    "checkpoint_path = \"cp_mnist_w_dropout.ckpt\"\n",
    "checkpoint_dir = os.path.dirname(checkpoint_path)\n",
    "\n",
    "# Create a callback that saves the best model's weights\n",
    "cp_callback = tf.keras.callbacks.ModelCheckpoint(filepath=checkpoint_path,\n",
    "                                                 save_weights_only=True,\n",
    "                                                 monitor='val_accuracy', \n",
    "                                                 mode='max',\n",
    "                                                 save_best_only=True,\n",
    "                                                 verbose=1)"
   ]
  },
  {
   "cell_type": "markdown",
   "metadata": {},
   "source": [
    "# Finally, Training the model\n",
    "**Note:** This might take some time (more than 1hr) if you are using tensorflow-cpu. Although you can load weights that I provided if you don't want to waste time. "
   ]
  },
  {
   "cell_type": "code",
   "execution_count": 10,
   "metadata": {},
   "outputs": [
    {
     "name": "stdout",
     "output_type": "stream",
     "text": [
      "Train on 60000 samples, validate on 10000 samples\n",
      "Epoch 1/50\n",
      "60000/60000 [==============================] - 33s 547us/step - loss: 0.5992 - accuracy: 0.8041 - val_loss: 0.0934 - val_accuracy: 0.9706\n",
      "\n",
      "Epoch 00001: val_accuracy improved from -inf to 0.97060, saving model to cp_mnist_w_dropout.ckpt\n",
      "Epoch 2/50\n",
      "60000/60000 [==============================] - 14s 231us/step - loss: 0.1071 - accuracy: 0.9664 - val_loss: 0.0771 - val_accuracy: 0.9753\n",
      "\n",
      "Epoch 00002: val_accuracy improved from 0.97060 to 0.97530, saving model to cp_mnist_w_dropout.ckpt\n",
      "Epoch 3/50\n",
      "60000/60000 [==============================] - 15s 242us/step - loss: 0.0736 - accuracy: 0.9772 - val_loss: 0.0348 - val_accuracy: 0.9884\n",
      "\n",
      "Epoch 00003: val_accuracy improved from 0.97530 to 0.98840, saving model to cp_mnist_w_dropout.ckpt\n",
      "Epoch 4/50\n",
      "60000/60000 [==============================] - 15s 246us/step - loss: 0.0566 - accuracy: 0.9822 - val_loss: 0.0285 - val_accuracy: 0.9909\n",
      "\n",
      "Epoch 00004: val_accuracy improved from 0.98840 to 0.99090, saving model to cp_mnist_w_dropout.ckpt\n",
      "Epoch 5/50\n",
      "60000/60000 [==============================] - 14s 242us/step - loss: 0.0460 - accuracy: 0.9855 - val_loss: 0.0285 - val_accuracy: 0.9906\n",
      "\n",
      "Epoch 00005: val_accuracy did not improve from 0.99090\n",
      "Epoch 6/50\n",
      "60000/60000 [==============================] - 15s 242us/step - loss: 0.0396 - accuracy: 0.9879 - val_loss: 0.0240 - val_accuracy: 0.9918\n",
      "\n",
      "Epoch 00006: val_accuracy improved from 0.99090 to 0.99180, saving model to cp_mnist_w_dropout.ckpt\n",
      "Epoch 7/50\n",
      "60000/60000 [==============================] - 15s 246us/step - loss: 0.0364 - accuracy: 0.9890 - val_loss: 0.0239 - val_accuracy: 0.9913\n",
      "\n",
      "Epoch 00007: val_accuracy did not improve from 0.99180\n",
      "Epoch 8/50\n",
      "60000/60000 [==============================] - 15s 242us/step - loss: 0.0314 - accuracy: 0.9901 - val_loss: 0.0205 - val_accuracy: 0.9928\n",
      "\n",
      "Epoch 00008: val_accuracy improved from 0.99180 to 0.99280, saving model to cp_mnist_w_dropout.ckpt\n",
      "Epoch 9/50\n",
      "60000/60000 [==============================] - 14s 241us/step - loss: 0.0293 - accuracy: 0.9909 - val_loss: 0.0221 - val_accuracy: 0.9925\n",
      "\n",
      "Epoch 00009: val_accuracy did not improve from 0.99280\n",
      "Epoch 10/50\n",
      "60000/60000 [==============================] - 15s 242us/step - loss: 0.0261 - accuracy: 0.9921 - val_loss: 0.0196 - val_accuracy: 0.9922\n",
      "\n",
      "Epoch 00010: val_accuracy did not improve from 0.99280\n",
      "Epoch 11/50\n",
      "60000/60000 [==============================] - 15s 242us/step - loss: 0.0236 - accuracy: 0.9928 - val_loss: 0.0267 - val_accuracy: 0.9920\n",
      "\n",
      "Epoch 00011: val_accuracy did not improve from 0.99280\n",
      "Epoch 12/50\n",
      "60000/60000 [==============================] - 15s 243us/step - loss: 0.0211 - accuracy: 0.9934 - val_loss: 0.0176 - val_accuracy: 0.9940\n",
      "\n",
      "Epoch 00012: val_accuracy improved from 0.99280 to 0.99400, saving model to cp_mnist_w_dropout.ckpt\n",
      "Epoch 13/50\n",
      "60000/60000 [==============================] - 14s 237us/step - loss: 0.0198 - accuracy: 0.9934 - val_loss: 0.0245 - val_accuracy: 0.9914\n",
      "\n",
      "Epoch 00013: val_accuracy did not improve from 0.99400\n",
      "Epoch 14/50\n",
      "60000/60000 [==============================] - 15s 245us/step - loss: 0.0182 - accuracy: 0.9941 - val_loss: 0.0188 - val_accuracy: 0.9944\n",
      "\n",
      "Epoch 00014: val_accuracy improved from 0.99400 to 0.99440, saving model to cp_mnist_w_dropout.ckpt\n",
      "Epoch 15/50\n",
      "60000/60000 [==============================] - 15s 244us/step - loss: 0.0184 - accuracy: 0.9942 - val_loss: 0.0316 - val_accuracy: 0.9896\n",
      "\n",
      "Epoch 00015: val_accuracy did not improve from 0.99440\n",
      "Epoch 16/50\n",
      "60000/60000 [==============================] - 14s 239us/step - loss: 0.0179 - accuracy: 0.9943 - val_loss: 0.0191 - val_accuracy: 0.9942\n",
      "\n",
      "Epoch 00016: val_accuracy did not improve from 0.99440\n",
      "Epoch 17/50\n",
      "60000/60000 [==============================] - 15s 253us/step - loss: 0.0159 - accuracy: 0.9949 - val_loss: 0.0199 - val_accuracy: 0.9938\n",
      "\n",
      "Epoch 00017: val_accuracy did not improve from 0.99440\n",
      "Epoch 18/50\n",
      "60000/60000 [==============================] - 14s 241us/step - loss: 0.0145 - accuracy: 0.9954 - val_loss: 0.0340 - val_accuracy: 0.9894\n",
      "\n",
      "Epoch 00018: val_accuracy did not improve from 0.99440\n",
      "Epoch 19/50\n",
      "60000/60000 [==============================] - 15s 249us/step - loss: 0.0138 - accuracy: 0.9954 - val_loss: 0.0191 - val_accuracy: 0.9936\n",
      "\n",
      "Epoch 00019: val_accuracy did not improve from 0.99440\n",
      "Epoch 20/50\n",
      "60000/60000 [==============================] - 15s 244us/step - loss: 0.0125 - accuracy: 0.9959 - val_loss: 0.0202 - val_accuracy: 0.9939\n",
      "\n",
      "Epoch 00020: val_accuracy did not improve from 0.99440\n",
      "Epoch 21/50\n",
      "60000/60000 [==============================] - 15s 245us/step - loss: 0.0132 - accuracy: 0.9958 - val_loss: 0.0217 - val_accuracy: 0.9939\n",
      "\n",
      "Epoch 00021: val_accuracy did not improve from 0.99440\n",
      "Epoch 22/50\n",
      "60000/60000 [==============================] - 14s 239us/step - loss: 0.0128 - accuracy: 0.9960 - val_loss: 0.0204 - val_accuracy: 0.9941\n",
      "\n",
      "Epoch 00022: val_accuracy did not improve from 0.99440\n",
      "Epoch 23/50\n",
      "60000/60000 [==============================] - 15s 251us/step - loss: 0.0112 - accuracy: 0.9965 - val_loss: 0.0156 - val_accuracy: 0.9949\n",
      "\n",
      "Epoch 00023: val_accuracy improved from 0.99440 to 0.99490, saving model to cp_mnist_w_dropout.ckpt\n",
      "Epoch 24/50\n",
      "60000/60000 [==============================] - 15s 246us/step - loss: 0.0110 - accuracy: 0.9960 - val_loss: 0.0173 - val_accuracy: 0.9950\n",
      "\n",
      "Epoch 00024: val_accuracy improved from 0.99490 to 0.99500, saving model to cp_mnist_w_dropout.ckpt\n",
      "Epoch 25/50\n",
      "60000/60000 [==============================] - 15s 251us/step - loss: 0.0102 - accuracy: 0.9966 - val_loss: 0.0165 - val_accuracy: 0.9948\n",
      "\n",
      "Epoch 00025: val_accuracy did not improve from 0.99500\n",
      "Epoch 26/50\n",
      "60000/60000 [==============================] - 15s 252us/step - loss: 0.0097 - accuracy: 0.9968 - val_loss: 0.0172 - val_accuracy: 0.9948\n",
      "\n",
      "Epoch 00026: val_accuracy did not improve from 0.99500\n",
      "Epoch 27/50\n",
      "60000/60000 [==============================] - 15s 246us/step - loss: 0.0095 - accuracy: 0.9970 - val_loss: 0.0161 - val_accuracy: 0.9951\n",
      "\n",
      "Epoch 00027: val_accuracy improved from 0.99500 to 0.99510, saving model to cp_mnist_w_dropout.ckpt\n",
      "Epoch 28/50\n",
      "60000/60000 [==============================] - 14s 238us/step - loss: 0.0090 - accuracy: 0.9969 - val_loss: 0.0184 - val_accuracy: 0.9939\n",
      "\n",
      "Epoch 00028: val_accuracy did not improve from 0.99510\n",
      "Epoch 29/50\n",
      "60000/60000 [==============================] - 15s 243us/step - loss: 0.0085 - accuracy: 0.9974 - val_loss: 0.0174 - val_accuracy: 0.9948\n",
      "\n",
      "Epoch 00029: val_accuracy did not improve from 0.99510\n",
      "Epoch 30/50\n",
      "60000/60000 [==============================] - 15s 254us/step - loss: 0.0080 - accuracy: 0.9974 - val_loss: 0.0193 - val_accuracy: 0.9951\n",
      "\n",
      "Epoch 00030: val_accuracy did not improve from 0.99510\n",
      "Epoch 31/50\n",
      "60000/60000 [==============================] - 15s 249us/step - loss: 0.0080 - accuracy: 0.9973 - val_loss: 0.0191 - val_accuracy: 0.9942\n",
      "\n",
      "Epoch 00031: val_accuracy did not improve from 0.99510\n",
      "Epoch 32/50\n",
      "60000/60000 [==============================] - 15s 245us/step - loss: 0.0073 - accuracy: 0.9975 - val_loss: 0.0177 - val_accuracy: 0.9949\n",
      "\n",
      "Epoch 00032: val_accuracy did not improve from 0.99510\n",
      "Epoch 33/50\n",
      "60000/60000 [==============================] - 15s 243us/step - loss: 0.0071 - accuracy: 0.9977 - val_loss: 0.0168 - val_accuracy: 0.9956\n",
      "\n",
      "Epoch 00033: val_accuracy improved from 0.99510 to 0.99560, saving model to cp_mnist_w_dropout.ckpt\n",
      "Epoch 34/50\n",
      "60000/60000 [==============================] - 16s 262us/step - loss: 0.0073 - accuracy: 0.9973 - val_loss: 0.0194 - val_accuracy: 0.9953\n",
      "\n",
      "Epoch 00034: val_accuracy did not improve from 0.99560\n",
      "Epoch 35/50\n",
      "60000/60000 [==============================] - 15s 250us/step - loss: 0.0074 - accuracy: 0.9976 - val_loss: 0.0188 - val_accuracy: 0.9944\n",
      "\n",
      "Epoch 00035: val_accuracy did not improve from 0.99560\n",
      "Epoch 36/50\n",
      "60000/60000 [==============================] - 15s 242us/step - loss: 0.0079 - accuracy: 0.9973 - val_loss: 0.0207 - val_accuracy: 0.9942\n",
      "\n",
      "Epoch 00036: val_accuracy did not improve from 0.99560\n",
      "Epoch 37/50\n",
      "60000/60000 [==============================] - 15s 246us/step - loss: 0.0068 - accuracy: 0.9977 - val_loss: 0.0167 - val_accuracy: 0.9954\n",
      "\n",
      "Epoch 00037: val_accuracy did not improve from 0.99560\n",
      "Epoch 38/50\n"
     ]
    },
    {
     "name": "stdout",
     "output_type": "stream",
     "text": [
      "60000/60000 [==============================] - 15s 254us/step - loss: 0.0056 - accuracy: 0.9983 - val_loss: 0.0201 - val_accuracy: 0.9949\n",
      "\n",
      "Epoch 00038: val_accuracy did not improve from 0.99560\n",
      "Epoch 39/50\n",
      "60000/60000 [==============================] - 15s 245us/step - loss: 0.0063 - accuracy: 0.9979 - val_loss: 0.0231 - val_accuracy: 0.9928\n",
      "\n",
      "Epoch 00039: val_accuracy did not improve from 0.99560\n",
      "Epoch 40/50\n",
      "60000/60000 [==============================] - 15s 249us/step - loss: 0.0067 - accuracy: 0.9976 - val_loss: 0.0204 - val_accuracy: 0.9945\n",
      "\n",
      "Epoch 00040: val_accuracy did not improve from 0.99560\n",
      "Epoch 41/50\n",
      "60000/60000 [==============================] - 15s 253us/step - loss: 0.0055 - accuracy: 0.9982 - val_loss: 0.0169 - val_accuracy: 0.9948\n",
      "\n",
      "Epoch 00041: val_accuracy did not improve from 0.99560\n",
      "Epoch 42/50\n",
      "60000/60000 [==============================] - 14s 238us/step - loss: 0.0062 - accuracy: 0.9980 - val_loss: 0.0190 - val_accuracy: 0.9940\n",
      "\n",
      "Epoch 00042: val_accuracy did not improve from 0.99560\n",
      "Epoch 43/50\n",
      "60000/60000 [==============================] - 15s 249us/step - loss: 0.0056 - accuracy: 0.9980 - val_loss: 0.0227 - val_accuracy: 0.9936\n",
      "\n",
      "Epoch 00043: val_accuracy did not improve from 0.99560\n",
      "Epoch 44/50\n",
      "60000/60000 [==============================] - 15s 247us/step - loss: 0.0056 - accuracy: 0.9981 - val_loss: 0.0171 - val_accuracy: 0.9955\n",
      "\n",
      "Epoch 00044: val_accuracy did not improve from 0.99560\n",
      "Epoch 45/50\n",
      "60000/60000 [==============================] - 15s 253us/step - loss: 0.0052 - accuracy: 0.9982 - val_loss: 0.0199 - val_accuracy: 0.9951\n",
      "\n",
      "Epoch 00045: val_accuracy did not improve from 0.99560\n",
      "Epoch 46/50\n",
      "60000/60000 [==============================] - 14s 241us/step - loss: 0.0056 - accuracy: 0.9979 - val_loss: 0.0251 - val_accuracy: 0.9917\n",
      "\n",
      "Epoch 00046: val_accuracy did not improve from 0.99560\n",
      "Epoch 47/50\n",
      "60000/60000 [==============================] - 14s 241us/step - loss: 0.0045 - accuracy: 0.9986 - val_loss: 0.0187 - val_accuracy: 0.9948\n",
      "\n",
      "Epoch 00047: val_accuracy did not improve from 0.99560\n",
      "Epoch 48/50\n",
      "60000/60000 [==============================] - 15s 243us/step - loss: 0.0040 - accuracy: 0.9986 - val_loss: 0.0197 - val_accuracy: 0.9948\n",
      "\n",
      "Epoch 00048: val_accuracy did not improve from 0.99560\n",
      "Epoch 49/50\n",
      "60000/60000 [==============================] - 15s 256us/step - loss: 0.0036 - accuracy: 0.9987 - val_loss: 0.0235 - val_accuracy: 0.9945\n",
      "\n",
      "Epoch 00049: val_accuracy did not improve from 0.99560\n",
      "Epoch 50/50\n",
      "60000/60000 [==============================] - 15s 242us/step - loss: 0.0049 - accuracy: 0.9985 - val_loss: 0.0224 - val_accuracy: 0.9943\n",
      "\n",
      "Epoch 00050: val_accuracy did not improve from 0.99560\n"
     ]
    }
   ],
   "source": [
    "history = model.fit(X_train, Y_train,\n",
    "          batch_size=batch_size,\n",
    "          epochs=nb_epoch,\n",
    "          verbose=1,\n",
    "          validation_data=(X_test, Y_test),\n",
    "          callbacks=[cp_callback])"
   ]
  },
  {
   "cell_type": "markdown",
   "metadata": {},
   "source": [
    "# Ploting the progress of our model"
   ]
  },
  {
   "cell_type": "code",
   "execution_count": 15,
   "metadata": {},
   "outputs": [
    {
     "name": "stdout",
     "output_type": "stream",
     "text": [
      "dict_keys(['val_loss', 'val_accuracy', 'loss', 'accuracy'])\n"
     ]
    },
    {
     "data": {
      "image/png": "[encoded data removed]",
      "text/plain": [
       "<Figure size 432x288 with 1 Axes>"
      ]
     },
     "metadata": {
      "needs_background": "light"
     },
     "output_type": "display_data"
    },
    {
     "data": {
      "image/png": "[encoded data removed]",
      "text/plain": [
       "<Figure size 432x288 with 1 Axes>"
      ]
     },
     "metadata": {
      "needs_background": "light"
     },
     "output_type": "display_data"
    }
   ],
   "source": [
    "import matplotlib.pyplot as plt\n",
    "print(history.history.keys())\n",
    "#  \"Accuracy\"\n",
    "plt.plot(history.history['accuracy'])\n",
    "plt.plot(history.history['val_accuracy'])\n",
    "plt.title('model accuracy')\n",
    "plt.ylabel('accuracy')\n",
    "plt.xlabel('epoch')\n",
    "plt.legend(['train', 'validation'], loc='lower right')\n",
    "plt.show()\n",
    "# \"Loss\"\n",
    "plt.plot(history.history['loss'])\n",
    "plt.plot(history.history['val_loss'])\n",
    "plt.title('model loss')\n",
    "plt.ylabel('loss')\n",
    "plt.xlabel('epoch')\n",
    "plt.legend(['train', 'validation'], loc='upper right')\n",
    "plt.show()"
   ]
  },
  {
   "cell_type": "markdown",
   "metadata": {},
   "source": [
    "### Load the pretrained model(OPTIONAL)"
   ]
  },
  {
   "cell_type": "code",
   "execution_count": null,
   "metadata": {},
   "outputs": [],
   "source": [
    "#Load the best saved model\n",
    "model.load_weights(checkpoint_path)"
   ]
  },
  {
   "cell_type": "markdown",
   "metadata": {},
   "source": [
    "## Evaluation"
   ]
  },
  {
   "cell_type": "code",
   "execution_count": 16,
   "metadata": {},
   "outputs": [
    {
     "name": "stdout",
     "output_type": "stream",
     "text": [
      "Test loss: 0.022361704191624057\n",
      "Test accuracy: 0.9943000078201294\n"
     ]
    }
   ],
   "source": [
    "loss, acc = model.evaluate(X_test,  Y_test, verbose=2)\n",
    "print('Test loss:', loss)\n",
    "print('Test accuracy:', acc)"
   ]
  },
  {
   "cell_type": "markdown",
   "metadata": {},
   "source": [
    "## Conclusion \n",
    "- Pretty good accuracy but we can do better.\n",
    "- Play with hyperparameter and let me know what you find\n",
    "- I hope you enjoyed my work."
   ]
  },
  {
   "cell_type": "code",
   "execution_count": 17,
   "metadata": {},
   "outputs": [
    {
     "name": "stdout",
     "output_type": "stream",
     "text": [
      "(28000, 784)\n",
      "(28000, 28, 28, 1)\n"
     ]
    }
   ],
   "source": [
    "import pandas as pd\n",
    "import numpy as np\n",
    "test_data  = pd.read_csv('test.csv')\n",
    "test = test_data.iloc[:,:].values\n",
    "print(test.shape)\n",
    "test = test.reshape(test.shape[0],28,28,1)\n",
    "print(test.shape)\n",
    "sub1 = model.predict(test)\n",
    "pred = np.argmax(sub1,axis = 1)\n",
    "pd.DataFrame(pred,columns=['Label']).to_csv('submission.csv',index=True)"
   ]
  },
  {
   "cell_type": "code",
   "execution_count": 18,
   "metadata": {},
   "outputs": [
    {
     "name": "stdout",
     "output_type": "stream",
     "text": [
      "Test loss: 0.016836579675555303\n",
      "Test accuracy: 0.9955999851226807\n"
     ]
    }
   ],
   "source": [
    "#Load the best saved model\n",
    "model.load_weights(checkpoint_path)\n",
    "# Re-evaluate the model\n",
    "loss, acc = model.evaluate(X_test,  Y_test, verbose=2)\n",
    "print('Test loss:', loss)\n",
    "print('Test accuracy:', acc)\n",
    "sub2 = model.predict(test)\n",
    "pred = np.argmax(sub2,axis = 1)\n",
    "pd.DataFrame(pred,columns=['Label']).to_csv('submission_best.csv',index=True)"
   ]
  }
 ],
 "metadata": {
  "kernelspec": {
   "display_name": "Python 3",
   "language": "python",
   "name": "python3"
  },
  "language_info": {
   "codemirror_mode": {
    "name": "ipython",
    "version": 3
   },
   "file_extension": ".py",
   "mimetype": "text/x-python",
   "name": "python",
   "nbconvert_exporter": "python",
   "pygments_lexer": "ipython3",
   "version": "3.7.6"
  }
 },
 "nbformat": 4,
 "nbformat_minor": 4
}

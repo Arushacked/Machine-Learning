{
 "cells": [
  {
   "cell_type": "markdown",
   "metadata": {},
   "source": [
    "# NLP Task:\n",
    "- Customer reviews \n",
    "- Are they good or bad? Let's Find out!\n",
    "## About Data\n",
    "- Given a dataset which contain reviews of many people collected from various site using webscrapping.\n",
    "- Make prediction whether reviews are positive and negative.\n",
    "- Positive: 1\n",
    "- Negative: 0"
   ]
  },
  {
   "cell_type": "code",
   "execution_count": 1,
   "metadata": {},
   "outputs": [],
   "source": [
    "import pandas as pd\n",
    "import numpy as np\n",
    "import os\n",
    "import re\n",
    "import nltk\n",
    "#nltk.download('stopwords')\n",
    "from nltk.corpus import stopwords\n",
    "from nltk.stem.porter import PorterStemmer"
   ]
  },
  {
   "cell_type": "code",
   "execution_count": 2,
   "metadata": {},
   "outputs": [
    {
     "name": "stdout",
     "output_type": "stream",
     "text": [
      "C:\\Users\\Arush\\Desktop\\NLP\\Ex-machina 2\n"
     ]
    }
   ],
   "source": [
    "base_path = os.path.abspath('')\n",
    "print(base_path)"
   ]
  },
  {
   "cell_type": "code",
   "execution_count": 3,
   "metadata": {},
   "outputs": [
    {
     "name": "stdout",
     "output_type": "stream",
     "text": [
      "Train data\n",
      "    index                                            reviews  label\n",
      "0      0  mature intelligent and highly charged melodram...      1\n",
      "1      1  http://video.google.com/videoplay?docid=211772...      1\n",
      "2      2  Title: Opera (1987) Director: Dario Argento Ca...      1\n",
      "3      3  I think a lot of people just wrote this off as...      1\n",
      "4      4  This is a story of two dogs and a cat looking ...      1\n",
      "Test data\n",
      "    index                                            reviews\n",
      "0      0  Wow. I have seen some really bad movies in my ...\n",
      "1      1  Naruto the Anime TV Series has so far spawned ...\n",
      "2      2  When Gundam0079 became the movie trilogy most ...\n",
      "3      3  only if its the last thing yo do and your humo...\n",
      "4      4  The director states in the Behind-the-Scenes f...\n"
     ]
    }
   ],
   "source": [
    "train = pd.read_csv('nlp_train.csv')\n",
    "test = pd.read_csv('nlp_test.csv')\n",
    "print(\"Train data\\n\", train.head())\n",
    "print(\"Test data\\n\",test.head())"
   ]
  },
  {
   "cell_type": "code",
   "execution_count": 4,
   "metadata": {},
   "outputs": [
    {
     "name": "stdout",
     "output_type": "stream",
     "text": [
      "Train data\n",
      " (30000, 3)\n",
      "Test data\n",
      " (10000, 2)\n",
      "Index(['index', 'reviews', 'label'], dtype='object')\n"
     ]
    }
   ],
   "source": [
    "print(\"Train data\\n\", train.shape)\n",
    "print(\"Test data\\n\",test.shape)\n",
    "print(train.columns)\n",
    "lens = train['reviews'].str.len()\n",
    "lens_test = test['reviews'].str.len()"
   ]
  },
  {
   "cell_type": "code",
   "execution_count": 5,
   "metadata": {},
   "outputs": [
    {
     "name": "stdout",
     "output_type": "stream",
     "text": [
      "Train data\n",
      "mean =  1305.0191\n",
      "Std =  980.7906640797931\n",
      "Max =  12988\n",
      "Min =  32\n"
     ]
    },
    {
     "data": {
      "text/plain": [
       "<matplotlib.axes._subplots.AxesSubplot at 0x1ad027f2908>"
      ]
     },
     "execution_count": 5,
     "metadata": {},
     "output_type": "execute_result"
    },
    {
     "data": {
      "image/png": "[encoded data removed]",
      "text/plain": [
       "<Figure size 432x288 with 1 Axes>"
      ]
     },
     "metadata": {
      "needs_background": "light"
     },
     "output_type": "display_data"
    }
   ],
   "source": [
    "print('Train data')\n",
    "print('mean = ',lens.mean())\n",
    "print('Std = ',lens.std())\n",
    "print('Max = ',lens.max())\n",
    "print('Min = ',lens.min())\n",
    "lens.hist()"
   ]
  },
  {
   "cell_type": "code",
   "execution_count": 6,
   "metadata": {},
   "outputs": [
    {
     "name": "stdout",
     "output_type": "stream",
     "text": [
      "Test data\n",
      "mean =  1307.1005\n",
      "Std =  995.5609652669726\n",
      "Max =  13704\n",
      "Min =  70\n"
     ]
    },
    {
     "data": {
      "text/plain": [
       "<matplotlib.axes._subplots.AxesSubplot at 0x1ad02dc7d48>"
      ]
     },
     "execution_count": 6,
     "metadata": {},
     "output_type": "execute_result"
    },
    {
     "data": {
      "image/png": "[encoded data removed]",
      "text/plain": [
       "<Figure size 432x288 with 1 Axes>"
      ]
     },
     "metadata": {
      "needs_background": "light"
     },
     "output_type": "display_data"
    }
   ],
   "source": [
    "print('Test data')\n",
    "print('mean = ',lens_test.mean())\n",
    "print('Std = ',lens_test.std())\n",
    "print('Max = ',lens_test.max())\n",
    "print('Min = ',lens_test.min())\n",
    "lens_test.hist()"
   ]
  },
  {
   "cell_type": "code",
   "execution_count": 7,
   "metadata": {},
   "outputs": [
    {
     "data": {
      "text/html": [
       "<div>\n",
       "<style scoped>\n",
       "    .dataframe tbody tr th:only-of-type {\n",
       "        vertical-align: middle;\n",
       "    }\n",
       "\n",
       "    .dataframe tbody tr th {\n",
       "        vertical-align: top;\n",
       "    }\n",
       "\n",
       "    .dataframe thead th {\n",
       "        text-align: right;\n",
       "    }\n",
       "</style>\n",
       "<table border=\"1\" class=\"dataframe\">\n",
       "  <thead>\n",
       "    <tr style=\"text-align: right;\">\n",
       "      <th></th>\n",
       "      <th>index</th>\n",
       "      <th>label</th>\n",
       "    </tr>\n",
       "  </thead>\n",
       "  <tbody>\n",
       "    <tr>\n",
       "      <th>count</th>\n",
       "      <td>30000.000000</td>\n",
       "      <td>30000.000000</td>\n",
       "    </tr>\n",
       "    <tr>\n",
       "      <th>mean</th>\n",
       "      <td>14999.500000</td>\n",
       "      <td>0.499367</td>\n",
       "    </tr>\n",
       "    <tr>\n",
       "      <th>std</th>\n",
       "      <td>8660.398374</td>\n",
       "      <td>0.500008</td>\n",
       "    </tr>\n",
       "    <tr>\n",
       "      <th>min</th>\n",
       "      <td>0.000000</td>\n",
       "      <td>0.000000</td>\n",
       "    </tr>\n",
       "    <tr>\n",
       "      <th>25%</th>\n",
       "      <td>7499.750000</td>\n",
       "      <td>0.000000</td>\n",
       "    </tr>\n",
       "    <tr>\n",
       "      <th>50%</th>\n",
       "      <td>14999.500000</td>\n",
       "      <td>0.000000</td>\n",
       "    </tr>\n",
       "    <tr>\n",
       "      <th>75%</th>\n",
       "      <td>22499.250000</td>\n",
       "      <td>1.000000</td>\n",
       "    </tr>\n",
       "    <tr>\n",
       "      <th>max</th>\n",
       "      <td>29999.000000</td>\n",
       "      <td>1.000000</td>\n",
       "    </tr>\n",
       "  </tbody>\n",
       "</table>\n",
       "</div>"
      ],
      "text/plain": [
       "              index         label\n",
       "count  30000.000000  30000.000000\n",
       "mean   14999.500000      0.499367\n",
       "std     8660.398374      0.500008\n",
       "min        0.000000      0.000000\n",
       "25%     7499.750000      0.000000\n",
       "50%    14999.500000      0.000000\n",
       "75%    22499.250000      1.000000\n",
       "max    29999.000000      1.000000"
      ]
     },
     "execution_count": 7,
     "metadata": {},
     "output_type": "execute_result"
    }
   ],
   "source": [
    "train.describe()"
   ]
  },
  {
   "cell_type": "code",
   "execution_count": 8,
   "metadata": {},
   "outputs": [
    {
     "data": {
      "text/html": [
       "<div>\n",
       "<style scoped>\n",
       "    .dataframe tbody tr th:only-of-type {\n",
       "        vertical-align: middle;\n",
       "    }\n",
       "\n",
       "    .dataframe tbody tr th {\n",
       "        vertical-align: top;\n",
       "    }\n",
       "\n",
       "    .dataframe thead th {\n",
       "        text-align: right;\n",
       "    }\n",
       "</style>\n",
       "<table border=\"1\" class=\"dataframe\">\n",
       "  <thead>\n",
       "    <tr style=\"text-align: right;\">\n",
       "      <th></th>\n",
       "      <th>index</th>\n",
       "    </tr>\n",
       "  </thead>\n",
       "  <tbody>\n",
       "    <tr>\n",
       "      <th>count</th>\n",
       "      <td>10000.00000</td>\n",
       "    </tr>\n",
       "    <tr>\n",
       "      <th>mean</th>\n",
       "      <td>4999.50000</td>\n",
       "    </tr>\n",
       "    <tr>\n",
       "      <th>std</th>\n",
       "      <td>2886.89568</td>\n",
       "    </tr>\n",
       "    <tr>\n",
       "      <th>min</th>\n",
       "      <td>0.00000</td>\n",
       "    </tr>\n",
       "    <tr>\n",
       "      <th>25%</th>\n",
       "      <td>2499.75000</td>\n",
       "    </tr>\n",
       "    <tr>\n",
       "      <th>50%</th>\n",
       "      <td>4999.50000</td>\n",
       "    </tr>\n",
       "    <tr>\n",
       "      <th>75%</th>\n",
       "      <td>7499.25000</td>\n",
       "    </tr>\n",
       "    <tr>\n",
       "      <th>max</th>\n",
       "      <td>9999.00000</td>\n",
       "    </tr>\n",
       "  </tbody>\n",
       "</table>\n",
       "</div>"
      ],
      "text/plain": [
       "             index\n",
       "count  10000.00000\n",
       "mean    4999.50000\n",
       "std     2886.89568\n",
       "min        0.00000\n",
       "25%     2499.75000\n",
       "50%     4999.50000\n",
       "75%     7499.25000\n",
       "max     9999.00000"
      ]
     },
     "execution_count": 8,
     "metadata": {},
     "output_type": "execute_result"
    }
   ],
   "source": [
    "test.describe()"
   ]
  },
  {
   "cell_type": "code",
   "execution_count": 9,
   "metadata": {},
   "outputs": [],
   "source": [
    "from tqdm import tqdm\n",
    "from nltk import word_tokenize\n",
    "from nltk.corpus import stopwords\n",
    "stop_words = stopwords.words('english')"
   ]
  },
  {
   "cell_type": "code",
   "execution_count": 5,
   "metadata": {},
   "outputs": [
    {
     "name": "stderr",
     "output_type": "stream",
     "text": [
      "287it [00:00, 2760.44it/s]"
     ]
    },
    {
     "name": "stdout",
     "output_type": "stream",
     "text": [
      "Copleted :  0\n"
     ]
    },
    {
     "name": "stderr",
     "output_type": "stream",
     "text": [
      "53200it [00:09, 6408.08it/s]"
     ]
    },
    {
     "name": "stdout",
     "output_type": "stream",
     "text": [
      "52343\n"
     ]
    },
    {
     "name": "stderr",
     "output_type": "stream",
     "text": [
      "129242it [00:23, 5280.68it/s]"
     ]
    },
    {
     "name": "stdout",
     "output_type": "stream",
     "text": [
      "128261\n"
     ]
    },
    {
     "name": "stderr",
     "output_type": "stream",
     "text": [
      "151681it [00:27, 5596.13it/s]"
     ]
    },
    {
     "name": "stdout",
     "output_type": "stream",
     "text": [
      "151102\n"
     ]
    },
    {
     "name": "stderr",
     "output_type": "stream",
     "text": [
      "200743it [00:36, 5533.33it/s]"
     ]
    },
    {
     "name": "stdout",
     "output_type": "stream",
     "text": [
      "Copleted :  200000\n",
      "200668\n"
     ]
    },
    {
     "name": "stderr",
     "output_type": "stream",
     "text": [
      "210549it [00:37, 6326.66it/s]"
     ]
    },
    {
     "name": "stdout",
     "output_type": "stream",
     "text": [
      "209833\n"
     ]
    },
    {
     "name": "stderr",
     "output_type": "stream",
     "text": [
      "221761it [00:39, 6017.33it/s]"
     ]
    },
    {
     "name": "stdout",
     "output_type": "stream",
     "text": [
      "220779\n"
     ]
    },
    {
     "name": "stderr",
     "output_type": "stream",
     "text": [
      "254072it [00:48, 5157.13it/s]"
     ]
    },
    {
     "name": "stdout",
     "output_type": "stream",
     "text": [
      "253461\n"
     ]
    },
    {
     "name": "stderr",
     "output_type": "stream",
     "text": [
      "366455it [01:09, 4523.91it/s]"
     ]
    },
    {
     "name": "stdout",
     "output_type": "stream",
     "text": [
      "365745\n"
     ]
    },
    {
     "name": "stderr",
     "output_type": "stream",
     "text": [
      "400474it [01:17, 2982.89it/s]"
     ]
    },
    {
     "name": "stdout",
     "output_type": "stream",
     "text": [
      "Copleted :  400000\n"
     ]
    },
    {
     "name": "stderr",
     "output_type": "stream",
     "text": [
      "532853it [01:45, 4879.16it/s]"
     ]
    },
    {
     "name": "stdout",
     "output_type": "stream",
     "text": [
      "532048\n"
     ]
    },
    {
     "name": "stderr",
     "output_type": "stream",
     "text": [
      "600205it [01:59, 2077.68it/s]"
     ]
    },
    {
     "name": "stdout",
     "output_type": "stream",
     "text": [
      "Copleted :  600000\n"
     ]
    },
    {
     "name": "stderr",
     "output_type": "stream",
     "text": [
      "717791it [02:26, 4440.53it/s]"
     ]
    },
    {
     "name": "stdout",
     "output_type": "stream",
     "text": [
      "717302\n"
     ]
    },
    {
     "name": "stderr",
     "output_type": "stream",
     "text": [
      "801176it [02:43, 5254.05it/s]"
     ]
    },
    {
     "name": "stdout",
     "output_type": "stream",
     "text": [
      "Copleted :  800000\n"
     ]
    },
    {
     "name": "stderr",
     "output_type": "stream",
     "text": [
      "995690it [03:19, 4280.39it/s]"
     ]
    },
    {
     "name": "stdout",
     "output_type": "stream",
     "text": [
      "994818\n"
     ]
    },
    {
     "name": "stderr",
     "output_type": "stream",
     "text": [
      "1000796it [03:20, 6381.55it/s]"
     ]
    },
    {
     "name": "stdout",
     "output_type": "stream",
     "text": [
      "Copleted :  1000000\n"
     ]
    },
    {
     "name": "stderr",
     "output_type": "stream",
     "text": [
      "1123879it [03:42, 5463.94it/s]"
     ]
    },
    {
     "name": "stdout",
     "output_type": "stream",
     "text": [
      "1123331\n"
     ]
    },
    {
     "name": "stderr",
     "output_type": "stream",
     "text": [
      "1148940it [03:47, 4759.55it/s]"
     ]
    },
    {
     "name": "stdout",
     "output_type": "stream",
     "text": [
      "1148409\n"
     ]
    },
    {
     "name": "stderr",
     "output_type": "stream",
     "text": [
      "1200645it [03:57, 5341.90it/s]"
     ]
    },
    {
     "name": "stdout",
     "output_type": "stream",
     "text": [
      "Copleted :  1200000\n"
     ]
    },
    {
     "name": "stderr",
     "output_type": "stream",
     "text": [
      "1352747it [04:33, 5698.00it/s]"
     ]
    },
    {
     "name": "stdout",
     "output_type": "stream",
     "text": [
      "1352110\n"
     ]
    },
    {
     "name": "stderr",
     "output_type": "stream",
     "text": [
      "1400491it [04:43, 4786.06it/s]"
     ]
    },
    {
     "name": "stdout",
     "output_type": "stream",
     "text": [
      "Copleted :  1400000\n"
     ]
    },
    {
     "name": "stderr",
     "output_type": "stream",
     "text": [
      "1500391it [05:01, 5777.85it/s]"
     ]
    },
    {
     "name": "stdout",
     "output_type": "stream",
     "text": [
      "1499727\n"
     ]
    },
    {
     "name": "stderr",
     "output_type": "stream",
     "text": [
      "1534475it [05:08, 5696.00it/s]"
     ]
    },
    {
     "name": "stdout",
     "output_type": "stream",
     "text": [
      "1533809\n"
     ]
    },
    {
     "name": "stderr",
     "output_type": "stream",
     "text": [
      "1600689it [05:25, 4107.56it/s]"
     ]
    },
    {
     "name": "stdout",
     "output_type": "stream",
     "text": [
      "Copleted :  1600000\n"
     ]
    },
    {
     "name": "stderr",
     "output_type": "stream",
     "text": [
      "1800026it [06:09, 4157.73it/s]"
     ]
    },
    {
     "name": "stdout",
     "output_type": "stream",
     "text": [
      "Copleted :  1800000\n"
     ]
    },
    {
     "name": "stderr",
     "output_type": "stream",
     "text": [
      "1900462it [06:31, 4457.42it/s]"
     ]
    },
    {
     "name": "stdout",
     "output_type": "stream",
     "text": [
      "1899841\n"
     ]
    },
    {
     "name": "stderr",
     "output_type": "stream",
     "text": [
      "1921823it [06:35, 4413.51it/s]"
     ]
    },
    {
     "name": "stdout",
     "output_type": "stream",
     "text": [
      "1921152\n"
     ]
    },
    {
     "name": "stderr",
     "output_type": "stream",
     "text": [
      "2000455it [06:50, 4664.51it/s]"
     ]
    },
    {
     "name": "stdout",
     "output_type": "stream",
     "text": [
      "Copleted :  2000000\n"
     ]
    },
    {
     "name": "stderr",
     "output_type": "stream",
     "text": [
      "2059652it [07:05, 4603.66it/s]"
     ]
    },
    {
     "name": "stdout",
     "output_type": "stream",
     "text": [
      "2058966\n"
     ]
    },
    {
     "name": "stderr",
     "output_type": "stream",
     "text": [
      "2165807it [07:25, 4708.13it/s]"
     ]
    },
    {
     "name": "stdout",
     "output_type": "stream",
     "text": [
      "2165246\n"
     ]
    },
    {
     "name": "stderr",
     "output_type": "stream",
     "text": [
      "2196017it [07:31, 4860.51it/s]"
     ]
    },
    {
     "name": "stdout",
     "output_type": "stream",
     "text": [
      "Found 2195884 word vectors.\n",
      "It took  452.13382625579834 s\n"
     ]
    },
    {
     "name": "stderr",
     "output_type": "stream",
     "text": [
      "\n"
     ]
    }
   ],
   "source": [
    "import time\n",
    "dust = time.time()\n",
    "embeddings_index = {}\n",
    "f = open('glove.840B.300d.txt', encoding=\"utf8\")\n",
    "# f = open('glove.840B.300d.txt')\n",
    "i=0\n",
    "for line in tqdm(f):\n",
    "    if(i%200000==0):\n",
    "        print(\"Copleted : \",i)\n",
    "    try:\n",
    "        values = line.split()\n",
    "        word = values[0]\n",
    "        coefs = np.asarray(values[1:], dtype='float32')\n",
    "        embeddings_index[word] = coefs\n",
    "    except:\n",
    "        print(i)\n",
    "    i=i+1\n",
    "f.close()\n",
    "\n",
    "print('Found %s word vectors.' % len(embeddings_index))\n",
    "star = time.time()\n",
    "print(\"It took \",star-dust,\"s\")"
   ]
  },
  {
   "cell_type": "code",
   "execution_count": 11,
   "metadata": {},
   "outputs": [],
   "source": [
    "corpus=[]\n",
    "#Length of data to be considered for the testing\n",
    "l = int(train.shape[0])"
   ]
  },
  {
   "cell_type": "markdown",
   "metadata": {},
   "source": [
    "- This might take some time depending on your compute power.\n",
    "- For me , it took around 40 minutes to preprocess\n",
    "- It takes around 75 seconds to preprocess 1000 rows.\n",
    "- I have already saved the cleaned data in a csv file so you can use that file if you don't want to waste time(\"nlp_train_data_set_cleaned.csv\")."
   ]
  },
  {
   "cell_type": "code",
   "execution_count": 12,
   "metadata": {},
   "outputs": [
    {
     "name": "stdout",
     "output_type": "stream",
     "text": [
      "0 Completed! 0.032998085021972656 s Passed.\n",
      "1000 Completed! 90.8501365184784 s Passed.\n",
      "2000 Completed! 180.05336332321167 s Passed.\n",
      "3000 Completed! 273.1448702812195 s Passed.\n",
      "4000 Completed! 361.451256275177 s Passed.\n",
      "5000 Completed! 445.9605631828308 s Passed.\n",
      "6000 Completed! 523.5647814273834 s Passed.\n",
      "7000 Completed! 600.8331599235535 s Passed.\n",
      "8000 Completed! 683.6045956611633 s Passed.\n",
      "9000 Completed! 766.6439061164856 s Passed.\n",
      "10000 Completed! 845.7228300571442 s Passed.\n",
      "11000 Completed! 925.9248015880585 s Passed.\n",
      "12000 Completed! 1004.6880211830139 s Passed.\n",
      "13000 Completed! 1089.0178399085999 s Passed.\n",
      "14000 Completed! 1174.3427498340607 s Passed.\n",
      "15000 Completed! 1255.035056591034 s Passed.\n",
      "16000 Completed! 1342.4965779781342 s Passed.\n",
      "17000 Completed! 1419.9301550388336 s Passed.\n",
      "18000 Completed! 1504.42054104805 s Passed.\n",
      "19000 Completed! 1585.7105195522308 s Passed.\n",
      "20000 Completed! 1695.0225656032562 s Passed.\n",
      "21000 Completed! 1808.4533133506775 s Passed.\n",
      "22000 Completed! 1915.4676146507263 s Passed.\n",
      "23000 Completed! 2028.4133830070496 s Passed.\n",
      "24000 Completed! 2145.099221229553 s Passed.\n",
      "25000 Completed! 2261.6435017585754 s Passed.\n",
      "26000 Completed! 2383.190635204315 s Passed.\n",
      "27000 Completed! 2512.7173240184784 s Passed.\n",
      "28000 Completed! 2646.550164937973 s Passed.\n",
      "29000 Completed! 2785.55295419693 s Passed.\n"
     ]
    }
   ],
   "source": [
    "#Preprocessing the data\n",
    "import time \n",
    "dust = time.time()\n",
    "for i in range(0,l):\n",
    "    review = re.sub('[^a-zA-Z]',' ',train['reviews'][i])\n",
    "    review = review.lower()\n",
    "    review = review.split()\n",
    "    ps = PorterStemmer()\n",
    "    review = [ps.stem(word) for word in review if not word in set(stopwords.words('english'))]\n",
    "    review = ' '.join(review)\n",
    "    corpus.append(review)\n",
    "    \n",
    "    star = time.time()\n",
    "    if (i%1000==0):\n",
    "        print(i,'Completed!',star-dust,'s Passed.')"
   ]
  },
  {
   "cell_type": "code",
   "execution_count": 13,
   "metadata": {},
   "outputs": [
    {
     "name": "stdout",
     "output_type": "stream",
     "text": [
      "0 Completed! 0.23394989967346191 s Passed.\n",
      "1000 Completed! 149.80958247184753 s Passed.\n",
      "2000 Completed! 282.16928601264954 s Passed.\n",
      "3000 Completed! 422.429563999176 s Passed.\n",
      "4000 Completed! 568.2378561496735 s Passed.\n",
      "5000 Completed! 714.5858521461487 s Passed.\n",
      "6000 Completed! 845.2058227062225 s Passed.\n",
      "7000 Completed! 971.5178306102753 s Passed.\n",
      "8000 Completed! 1083.013822555542 s Passed.\n",
      "9000 Completed! 1179.8258202075958 s Passed.\n"
     ]
    }
   ],
   "source": [
    "corpus_test=[]\n",
    "#Length of data to be considered for the testing\n",
    "l_test = int(test.shape[0])\n",
    "#Preprocessing the data\n",
    "import time \n",
    "dust = time.time()\n",
    "for i in range(0,l_test):\n",
    "    review = re.sub('[^a-zA-Z]',' ',test['reviews'][i])\n",
    "    review = review.lower()\n",
    "    review = review.split()\n",
    "    ps = PorterStemmer()\n",
    "    review = [ps.stem(word) for word in review if not word in set(stopwords.words('english'))]\n",
    "    review = ' '.join(review)\n",
    "    corpus_test.append(review)\n",
    "    star = time.time()\n",
    "    if (i%1000==0):\n",
    "        print(i,'Completed!',star-dust,'s Passed.')"
   ]
  },
  {
   "cell_type": "code",
   "execution_count": 18,
   "metadata": {
    "scrolled": true
   },
   "outputs": [],
   "source": [
    "from sklearn.feature_extraction.text import CountVectorizer\n",
    "cv = CountVectorizer(max_features= 5000)\n",
    "X = cv.fit_transform(corpus).toarray()\n",
    "y = train.iloc[:l, 2].values"
   ]
  },
  {
   "cell_type": "code",
   "execution_count": 9,
   "metadata": {},
   "outputs": [],
   "source": [
    "# this function creates a normalized vector for the whole sentence\n",
    "def sent2vec(s):\n",
    "#     words = str(s).lower().decode('utf-8')\n",
    "    words = str(s).lower()\n",
    "    words = word_tokenize(words)\n",
    "    words = [w for w in words if not w in stop_words]\n",
    "    words = [w for w in words if w.isalpha()]\n",
    "    M = []\n",
    "    for w in words:\n",
    "        try:\n",
    "            M.append(embeddings_index[w])\n",
    "        except:\n",
    "            continue\n",
    "    M = np.array(M)\n",
    "#     print('Shape of M = ',M.shape)\n",
    "    v = M.sum(axis=0)\n",
    "#     print('Shape of v = ',v.shape)\n",
    "    if type(v) != np.ndarray:\n",
    "        return np.zeros(300)\n",
    "    return v / np.sqrt((v ** 2).sum())"
   ]
  },
  {
   "cell_type": "code",
   "execution_count": 14,
   "metadata": {},
   "outputs": [
    {
     "name": "stdout",
     "output_type": "stream",
     "text": [
      "(27600,)\n",
      "(2400,)\n",
      "(10000,)\n"
     ]
    }
   ],
   "source": [
    "X_train = np.array(corpus)\n",
    "y_train = train.iloc[:,2].values\n",
    "xtest = np.array(corpus_test)\n",
    "from sklearn.model_selection import train_test_split\n",
    "xtrain, xvalid, ytrain, yvalid = train_test_split(X_train, y_train, \n",
    "                                                  stratify=y_train, \n",
    "                                                  random_state=42, \n",
    "                                                  test_size=0.08, shuffle=True)\n",
    "print (xtrain.shape)\n",
    "print (xvalid.shape)\n",
    "print(xtest.shape)"
   ]
  },
  {
   "cell_type": "code",
   "execution_count": 11,
   "metadata": {},
   "outputs": [
    {
     "name": "stderr",
     "output_type": "stream",
     "text": [
      "[nltk_data] Downloading package punkt to\n",
      "[nltk_data]     C:\\Users\\Arush\\AppData\\Roaming\\nltk_data...\n",
      "[nltk_data]   Package punkt is already up-to-date!\n",
      "100%|████████████████████████████████████████████████████████████████████████████| 27600/27600 [15:00<00:00, 30.65it/s]\n",
      "100%|█████████████████████████████████████████████████████████████████████████████| 2400/2400 [00:21<00:00, 112.09it/s]\n",
      "100%|███████████████████████████████████████████████████████████████████████████| 10000/10000 [01:28<00:00, 113.41it/s]\n"
     ]
    }
   ],
   "source": [
    "import nltk\n",
    "nltk.download('punkt')\n",
    "# create sentence vectors using the above function for training and validation set\n",
    "xtrain_glove = [sent2vec(x) for x in tqdm(xtrain)]\n",
    "xvalid_glove = [sent2vec(x) for x in tqdm(xvalid)]\n",
    "xtest_glove = [sent2vec(x) for x in tqdm(xtest)]"
   ]
  },
  {
   "cell_type": "code",
   "execution_count": 16,
   "metadata": {},
   "outputs": [],
   "source": [
    "def multiclass_logloss(actual, predicted, eps=1e-15):\n",
    "    \"\"\"Multi class version of Logarithmic Loss metric.\n",
    "    :param actual: Array containing the actual target classes\n",
    "    :param predicted: Matrix with class predictions, one probability per class\n",
    "    \"\"\"\n",
    "    # Convert 'actual' to a binary array if it's not already:\n",
    "    if len(actual.shape) == 1:\n",
    "        try:\n",
    "            actual2 = np.zeros((actual.shape[0], predicted.shape[1]))\n",
    "        except:\n",
    "            actual2 = np.zeros((actual.shape[0], predicted.shape[0]))\n",
    "        for i, val in enumerate(actual):\n",
    "            actual2[i, val] = 1\n",
    "        actual = actual2\n",
    "\n",
    "    clip = np.clip(predicted, eps, 1 - eps)\n",
    "    rows = actual.shape[0]\n",
    "    vsota = np.sum(actual * np.log(clip))\n",
    "    return -1.0 / rows * vsota"
   ]
  },
  {
   "cell_type": "code",
   "execution_count": 13,
   "metadata": {},
   "outputs": [
    {
     "name": "stdout",
     "output_type": "stream",
     "text": [
      "shape of xtrain_glove (27600, 300)\n",
      "shape of xvalid_glove (2400, 300)\n",
      "shape of xvalid_glove (10000, 300)\n"
     ]
    }
   ],
   "source": [
    "xtrain_glove = np.array(xtrain_glove)\n",
    "xvalid_glove = np.array(xvalid_glove)\n",
    "xtest_glove = np.array(xtest_glove)\n",
    "print(\"shape of xtrain_glove\",xtrain_glove.shape)\n",
    "print(\"shape of xvalid_glove\",xvalid_glove.shape)\n",
    "print(\"shape of xvalid_glove\",xtest_glove.shape)"
   ]
  },
  {
   "cell_type": "markdown",
   "metadata": {},
   "source": [
    "# DeepLearning"
   ]
  },
  {
   "cell_type": "code",
   "execution_count": 14,
   "metadata": {},
   "outputs": [
    {
     "name": "stderr",
     "output_type": "stream",
     "text": [
      "Using TensorFlow backend.\n"
     ]
    }
   ],
   "source": [
    "from keras.utils import np_utils\n",
    "from sklearn import preprocessing"
   ]
  },
  {
   "cell_type": "code",
   "execution_count": 16,
   "metadata": {},
   "outputs": [],
   "source": [
    "# scale the data before any neural net:\n",
    "scl = preprocessing.StandardScaler()\n",
    "xtrain_glove_scl = scl.fit_transform(xtrain_glove)\n",
    "xvalid_glove_scl = scl.transform(xvalid_glove)\n",
    "xtest_glove_scl = scl.transform(xtest_glove)"
   ]
  },
  {
   "cell_type": "code",
   "execution_count": 17,
   "metadata": {},
   "outputs": [],
   "source": [
    "# we need to binarize the labels for the neural net\n",
    "ytrain_enc = np_utils.to_categorical(ytrain)\n",
    "yvalid_enc = np_utils.to_categorical(yvalid)"
   ]
  },
  {
   "cell_type": "code",
   "execution_count": 18,
   "metadata": {},
   "outputs": [],
   "source": [
    "from keras.models import Sequential\n",
    "from keras.layers.recurrent import LSTM, GRU\n",
    "from keras.layers.core import Dense, Activation, Dropout\n",
    "from keras.layers.embeddings import Embedding\n",
    "from keras.layers.normalization import BatchNormalization"
   ]
  },
  {
   "cell_type": "code",
   "execution_count": 19,
   "metadata": {},
   "outputs": [
    {
     "name": "stdout",
     "output_type": "stream",
     "text": [
      "Model: \"sequential_1\"\n",
      "_________________________________________________________________\n",
      "Layer (type)                 Output Shape              Param #   \n",
      "=================================================================\n",
      "dense_1 (Dense)              (None, 300)               90300     \n",
      "_________________________________________________________________\n",
      "dropout_1 (Dropout)          (None, 300)               0         \n",
      "_________________________________________________________________\n",
      "batch_normalization_1 (Batch (None, 300)               1200      \n",
      "_________________________________________________________________\n",
      "dense_2 (Dense)              (None, 300)               90300     \n",
      "_________________________________________________________________\n",
      "dropout_2 (Dropout)          (None, 300)               0         \n",
      "_________________________________________________________________\n",
      "batch_normalization_2 (Batch (None, 300)               1200      \n",
      "_________________________________________________________________\n",
      "dense_3 (Dense)              (None, 2)                 602       \n",
      "_________________________________________________________________\n",
      "activation_1 (Activation)    (None, 2)                 0         \n",
      "=================================================================\n",
      "Total params: 183,602\n",
      "Trainable params: 182,402\n",
      "Non-trainable params: 1,200\n",
      "_________________________________________________________________\n"
     ]
    }
   ],
   "source": [
    "# create a simple 3 layer sequential neural net\n",
    "model = Sequential()\n",
    "\n",
    "model.add(Dense(300, input_dim=300, activation='relu'))\n",
    "model.add(Dropout(0.2))\n",
    "model.add(BatchNormalization())\n",
    "\n",
    "model.add(Dense(300, activation='relu'))\n",
    "model.add(Dropout(0.3))\n",
    "model.add(BatchNormalization())\n",
    "\n",
    "model.add(Dense(2))\n",
    "model.add(Activation('softmax'))\n",
    "\n",
    "# compile the model\n",
    "model.compile(loss='categorical_crossentropy', optimizer='adam')\n",
    "model.summary()\n",
    "model_simple = model"
   ]
  },
  {
   "cell_type": "code",
   "execution_count": 20,
   "metadata": {},
   "outputs": [
    {
     "name": "stdout",
     "output_type": "stream",
     "text": [
      "Train on 27600 samples, validate on 2400 samples\n",
      "Epoch 1/10\n",
      "27600/27600 [==============================] - 56s 2ms/step - loss: 0.4906 - val_loss: 0.3822\n",
      "Epoch 2/10\n",
      "27600/27600 [==============================] - 5s 197us/step - loss: 0.3905 - val_loss: 0.3725\n",
      "Epoch 3/10\n",
      "27600/27600 [==============================] - 5s 193us/step - loss: 0.3698 - val_loss: 0.3818\n",
      "Epoch 4/10\n",
      "27600/27600 [==============================] - 5s 183us/step - loss: 0.3558 - val_loss: 0.3664\n",
      "Epoch 5/10\n",
      "27600/27600 [==============================] - 5s 180us/step - loss: 0.3422 - val_loss: 0.3715\n",
      "Epoch 6/10\n",
      "27600/27600 [==============================] - 5s 193us/step - loss: 0.3270 - val_loss: 0.3849\n",
      "Epoch 7/10\n",
      "27600/27600 [==============================] - 5s 187us/step - loss: 0.3162 - val_loss: 0.3735\n",
      "Epoch 8/10\n",
      "27600/27600 [==============================] - 5s 187us/step - loss: 0.3013 - val_loss: 0.3765\n",
      "Epoch 9/10\n",
      "27600/27600 [==============================] - 5s 183us/step - loss: 0.2863 - val_loss: 0.3690\n",
      "Epoch 10/10\n",
      "27600/27600 [==============================] - 5s 180us/step - loss: 0.2732 - val_loss: 0.3879\n"
     ]
    }
   ],
   "source": [
    "history_simple = model.fit(xtrain_glove_scl, y=ytrain_enc, batch_size=64, \n",
    "          epochs=10, verbose=1, \n",
    "          validation_data=(xvalid_glove_scl, yvalid_enc))"
   ]
  },
  {
   "cell_type": "code",
   "execution_count": 21,
   "metadata": {},
   "outputs": [
    {
     "name": "stdout",
     "output_type": "stream",
     "text": [
      "dict_keys(['val_loss', 'loss'])\n"
     ]
    },
    {
     "data": {
      "image/png": "[encoded data removed]",
      "text/plain": [
       "<Figure size 432x288 with 1 Axes>"
      ]
     },
     "metadata": {
      "needs_background": "light"
     },
     "output_type": "display_data"
    }
   ],
   "source": [
    "print(history_simple.history.keys())\n",
    "h = history_simple\n",
    "import matplotlib.pyplot as plt\n",
    "# \"Loss\"\n",
    "plt.plot(h.history['loss'])\n",
    "plt.plot(h.history['val_loss'])\n",
    "plt.title('model loss')\n",
    "plt.ylabel('loss')\n",
    "plt.xlabel('epoch')\n",
    "plt.legend(['train', 'validation'], loc='upper right')\n",
    "plt.show()"
   ]
  },
  {
   "cell_type": "code",
   "execution_count": 26,
   "metadata": {},
   "outputs": [
    {
     "data": {
      "text/html": [
       "<div>\n",
       "<style scoped>\n",
       "    .dataframe tbody tr th:only-of-type {\n",
       "        vertical-align: middle;\n",
       "    }\n",
       "\n",
       "    .dataframe tbody tr th {\n",
       "        vertical-align: top;\n",
       "    }\n",
       "\n",
       "    .dataframe thead th {\n",
       "        text-align: right;\n",
       "    }\n",
       "</style>\n",
       "<table border=\"1\" class=\"dataframe\">\n",
       "  <thead>\n",
       "    <tr style=\"text-align: right;\">\n",
       "      <th></th>\n",
       "      <th>index</th>\n",
       "      <th>label</th>\n",
       "    </tr>\n",
       "  </thead>\n",
       "  <tbody>\n",
       "    <tr>\n",
       "      <th>0</th>\n",
       "      <td>0</td>\n",
       "      <td>0</td>\n",
       "    </tr>\n",
       "    <tr>\n",
       "      <th>1</th>\n",
       "      <td>1</td>\n",
       "      <td>1</td>\n",
       "    </tr>\n",
       "    <tr>\n",
       "      <th>2</th>\n",
       "      <td>2</td>\n",
       "      <td>0</td>\n",
       "    </tr>\n",
       "    <tr>\n",
       "      <th>3</th>\n",
       "      <td>3</td>\n",
       "      <td>1</td>\n",
       "    </tr>\n",
       "    <tr>\n",
       "      <th>4</th>\n",
       "      <td>4</td>\n",
       "      <td>0</td>\n",
       "    </tr>\n",
       "  </tbody>\n",
       "</table>\n",
       "</div>"
      ],
      "text/plain": [
       "   index  label\n",
       "0      0      0\n",
       "1      1      1\n",
       "2      2      0\n",
       "3      3      1\n",
       "4      4      0"
      ]
     },
     "execution_count": 26,
     "metadata": {},
     "output_type": "execute_result"
    }
   ],
   "source": [
    "model_simple = model\n",
    "y_pred = model.predict(xtest_glove_scl)\n",
    "y_pred = np.array(y_pred)\n",
    "y_pred = np.argmax(y_pred,axis = 1)\n",
    "ans = []\n",
    "for i in range(len(y_pred)):\n",
    "    ans.append([i,y_pred[i]])\n",
    "p = pd.DataFrame(ans,columns=['index','label'])\n",
    "p.to_csv('simple_submit2.csv',index=False)\n",
    "p.head()"
   ]
  },
  {
   "cell_type": "code",
   "execution_count": 27,
   "metadata": {},
   "outputs": [
    {
     "name": "stdout",
     "output_type": "stream",
     "text": [
      "Successfully submitted to EX-MACHINA Final Online Round Question-2\n"
     ]
    },
    {
     "name": "stderr",
     "output_type": "stream",
     "text": [
      "\n",
      "  0%|          | 0.00/77.1k [00:00<?, ?B/s]\n",
      " 10%|#         | 8.00k/77.1k [00:00<00:02, 28.2kB/s]\n",
      "100%|##########| 77.1k/77.1k [00:08<00:00, 9.14kB/s]\n"
     ]
    }
   ],
   "source": [
    "!kaggle competitions submit -c ex-machina-question-2 -f simple_submit2.csv -m \"Simple DNN on cleaned corpus\""
   ]
  },
  {
   "cell_type": "markdown",
   "metadata": {},
   "source": [
    "# Lstm"
   ]
  },
  {
   "cell_type": "code",
   "execution_count": 28,
   "metadata": {},
   "outputs": [],
   "source": [
    "from keras.layers import GlobalMaxPooling1D, Conv1D, MaxPooling1D, Flatten, Bidirectional, SpatialDropout1D\n",
    "from keras.preprocessing import sequence, text\n",
    "from keras.callbacks import EarlyStopping"
   ]
  },
  {
   "cell_type": "code",
   "execution_count": 29,
   "metadata": {},
   "outputs": [],
   "source": [
    "# using keras tokenizer here\n",
    "token = text.Tokenizer(num_words=None)\n",
    "max_len = 200\n",
    "\n",
    "token.fit_on_texts(list(xtrain))\n",
    "xtrain_seq = token.texts_to_sequences(xtrain)\n",
    "xvalid_seq = token.texts_to_sequences(xvalid)\n",
    "xtest_seq = token.texts_to_sequences(xtest)\n",
    "\n",
    "# zero pad the sequences\n",
    "xtrain_pad = sequence.pad_sequences(xtrain_seq, maxlen=max_len)\n",
    "xvalid_pad = sequence.pad_sequences(xvalid_seq, maxlen=max_len)\n",
    "xtest_pad = sequence.pad_sequences(xtest_seq, maxlen=max_len)\n",
    "\n",
    "word_index = token.word_index"
   ]
  },
  {
   "cell_type": "code",
   "execution_count": 30,
   "metadata": {},
   "outputs": [
    {
     "name": "stdout",
     "output_type": "stream",
     "text": [
      "528 [260, 1464, 35, 167, 195, 5859, 586, 1372, 285, 662, 1946, 48, 519, 5125, 1898, 68, 409, 1597, 19, 15]\n",
      "528 ['surpris', 'comparison', 'made', 'yet', 'mind', 'mencia', 'televis', 'program', 'aw', 'truth', 'ran', 'year', 'ago', 'helm', 'controversi', 'director', 'michael', 'moor', 'show', 'would']\n",
      "35\n"
     ]
    }
   ],
   "source": [
    "print(len(xtrain[0]),xtrain_seq[0][0:20])\n",
    "print(len(xtrain[0]),xtrain[0].split()[:20])\n",
    "print(word_index['made'])"
   ]
  },
  {
   "cell_type": "code",
   "execution_count": 31,
   "metadata": {},
   "outputs": [
    {
     "name": "stdout",
     "output_type": "stream",
     "text": [
      "83 92\n",
      "200 200\n",
      "<class 'dict'> 53156\n"
     ]
    }
   ],
   "source": [
    "print(len(xtrain_seq[0]),len(xvalid_seq[0]))\n",
    "print(len(xtrain_pad[0]),len(xvalid_pad[0]))\n",
    "print(type(word_index),len(word_index))"
   ]
  },
  {
   "cell_type": "code",
   "execution_count": 32,
   "metadata": {},
   "outputs": [
    {
     "name": "stderr",
     "output_type": "stream",
     "text": [
      "100%|█████████████████████████████████████████████████████████████████████████| 53156/53156 [00:03<00:00, 13557.73it/s]\n"
     ]
    }
   ],
   "source": [
    "# create an embedding matrix for the words we have in the dataset\n",
    "embedding_matrix = np.zeros((len(word_index) + 1, 300))\n",
    "for word, i in tqdm(word_index.items()):\n",
    "    embedding_vector = embeddings_index.get(word)\n",
    "    if embedding_vector is not None:\n",
    "        embedding_matrix[i] = embedding_vector"
   ]
  },
  {
   "cell_type": "markdown",
   "metadata": {},
   "source": [
    "# Simple LSTM Neural network with some Dense Layers"
   ]
  },
  {
   "cell_type": "code",
   "execution_count": 42,
   "metadata": {},
   "outputs": [],
   "source": [
    "# A simple LSTM with glove embeddings and some dense layers\n",
    "model = Sequential()\n",
    "model.add(Embedding(len(word_index) + 1,\n",
    "                     300,\n",
    "                     weights=[embedding_matrix],\n",
    "                     input_length=max_len,\n",
    "                     trainable=False))\n",
    "model.add(SpatialDropout1D(0.3))\n",
    "model.add(LSTM(100, dropout=0.3, recurrent_dropout=0.3))\n",
    "\n",
    "model.add(Dense(1024, activation='relu'))\n",
    "model.add(Dropout(0.2))\n",
    "\n",
    "model.add(Dense(512, activation='relu'))\n",
    "model.add(Dropout(0.2))\n",
    "model.add(Dense(128, activation='relu'))\n",
    "model.add(Dense(1))\n",
    "model.add(Activation('sigmoid'))\n",
    "model.compile(loss='binary_crossentropy', optimizer='adam')"
   ]
  },
  {
   "cell_type": "code",
   "execution_count": 43,
   "metadata": {},
   "outputs": [
    {
     "name": "stdout",
     "output_type": "stream",
     "text": [
      "Train on 27600 samples, validate on 2400 samples\n",
      "Epoch 1/100\n",
      "27600/27600 [==============================] - 50s 2ms/step - loss: 0.6071 - val_loss: 0.4511\n",
      "Epoch 2/100\n",
      "27600/27600 [==============================] - 39s 1ms/step - loss: 0.5294 - val_loss: 0.4182\n",
      "Epoch 3/100\n",
      "27600/27600 [==============================] - 31s 1ms/step - loss: 0.5072 - val_loss: 0.4276\n",
      "Epoch 4/100\n",
      "27600/27600 [==============================] - 31s 1ms/step - loss: 0.4869 - val_loss: 0.3906\n",
      "Epoch 5/100\n",
      "27600/27600 [==============================] - 30s 1ms/step - loss: 0.4718 - val_loss: 0.3736\n",
      "Epoch 6/100\n",
      "27600/27600 [==============================] - 30s 1ms/step - loss: 0.4581 - val_loss: 0.3754\n",
      "Epoch 7/100\n",
      "27600/27600 [==============================] - 30s 1ms/step - loss: 0.4373 - val_loss: 0.3400\n",
      "Epoch 8/100\n",
      "27600/27600 [==============================] - 30s 1ms/step - loss: 0.4219 - val_loss: 0.3469\n",
      "Epoch 9/100\n",
      "27600/27600 [==============================] - 30s 1ms/step - loss: 0.4085 - val_loss: 0.3355\n",
      "Epoch 10/100\n",
      "27600/27600 [==============================] - 30s 1ms/step - loss: 0.3988 - val_loss: 0.3425\n",
      "Epoch 11/100\n",
      "27600/27600 [==============================] - 30s 1ms/step - loss: 0.3899 - val_loss: 0.3266\n",
      "Epoch 12/100\n",
      "27600/27600 [==============================] - 31s 1ms/step - loss: 0.3709 - val_loss: 0.3106\n",
      "Epoch 13/100\n",
      "27600/27600 [==============================] - 31s 1ms/step - loss: 0.3589 - val_loss: 0.3220\n",
      "Epoch 14/100\n",
      "27600/27600 [==============================] - 31s 1ms/step - loss: 0.3539 - val_loss: 0.3107\n",
      "Epoch 15/100\n",
      "27600/27600 [==============================] - 30s 1ms/step - loss: 0.3488 - val_loss: 0.3055\n",
      "Epoch 16/100\n",
      "27600/27600 [==============================] - 31s 1ms/step - loss: 0.3385 - val_loss: 0.2920\n",
      "Epoch 17/100\n",
      "27600/27600 [==============================] - 31s 1ms/step - loss: 0.3324 - val_loss: 0.2946\n",
      "Epoch 18/100\n",
      "27600/27600 [==============================] - 31s 1ms/step - loss: 0.3239 - val_loss: 0.2986\n",
      "Epoch 19/100\n",
      "27600/27600 [==============================] - 30s 1ms/step - loss: 0.3197 - val_loss: 0.2939\n",
      "Epoch 20/100\n",
      "27600/27600 [==============================] - 31s 1ms/step - loss: 0.3095 - val_loss: 0.2947\n",
      "Epoch 21/100\n",
      "27600/27600 [==============================] - 31s 1ms/step - loss: 0.3054 - val_loss: 0.2907\n",
      "Epoch 22/100\n",
      "27600/27600 [==============================] - 31s 1ms/step - loss: 0.3016 - val_loss: 0.2927\n",
      "Epoch 23/100\n",
      "27600/27600 [==============================] - 30s 1ms/step - loss: 0.2965 - val_loss: 0.3046\n",
      "Epoch 24/100\n",
      "27600/27600 [==============================] - 31s 1ms/step - loss: 0.2883 - val_loss: 0.2900\n",
      "Epoch 25/100\n",
      "27600/27600 [==============================] - 31s 1ms/step - loss: 0.2885 - val_loss: 0.2917\n",
      "Epoch 26/100\n",
      "27600/27600 [==============================] - 31s 1ms/step - loss: 0.2832 - val_loss: 0.2909\n",
      "Epoch 27/100\n",
      "27600/27600 [==============================] - 30s 1ms/step - loss: 0.2773 - val_loss: 0.2873\n",
      "Epoch 28/100\n",
      "27600/27600 [==============================] - 30s 1ms/step - loss: 0.2740 - val_loss: 0.2993\n",
      "Epoch 29/100\n",
      "27600/27600 [==============================] - 31s 1ms/step - loss: 0.2689 - val_loss: 0.3003\n",
      "Epoch 30/100\n",
      "27600/27600 [==============================] - 31s 1ms/step - loss: 0.2628 - val_loss: 0.2922\n",
      "Epoch 31/100\n",
      "27600/27600 [==============================] - 31s 1ms/step - loss: 0.2618 - val_loss: 0.2981\n",
      "Epoch 32/100\n",
      "27600/27600 [==============================] - 31s 1ms/step - loss: 0.2552 - val_loss: 0.2978\n",
      "Epoch 33/100\n",
      "27600/27600 [==============================] - 31s 1ms/step - loss: 0.2560 - val_loss: 0.2944\n",
      "Epoch 34/100\n",
      "27600/27600 [==============================] - 31s 1ms/step - loss: 0.2463 - val_loss: 0.2970\n",
      "Epoch 35/100\n",
      "27600/27600 [==============================] - 31s 1ms/step - loss: 0.2476 - val_loss: 0.3015\n",
      "Epoch 36/100\n",
      "27600/27600 [==============================] - 31s 1ms/step - loss: 0.2425 - val_loss: 0.2925\n",
      "Epoch 37/100\n",
      "27600/27600 [==============================] - 31s 1ms/step - loss: 0.2418 - val_loss: 0.3053\n",
      "Epoch 38/100\n",
      "27600/27600 [==============================] - 30s 1ms/step - loss: 0.2339 - val_loss: 0.2928\n",
      "Epoch 39/100\n",
      "27600/27600 [==============================] - 31s 1ms/step - loss: 0.2388 - val_loss: 0.3109\n",
      "Epoch 40/100\n",
      "27600/27600 [==============================] - 30s 1ms/step - loss: 0.2327 - val_loss: 0.3077\n",
      "Epoch 41/100\n",
      "27600/27600 [==============================] - 33s 1ms/step - loss: 0.2254 - val_loss: 0.3072\n",
      "Epoch 42/100\n",
      "27600/27600 [==============================] - 31s 1ms/step - loss: 0.2188 - val_loss: 0.3242\n",
      "Epoch 43/100\n",
      "27600/27600 [==============================] - 33s 1ms/step - loss: 0.2200 - val_loss: 0.3246\n",
      "Epoch 44/100\n",
      "27600/27600 [==============================] - 32s 1ms/step - loss: 0.2200 - val_loss: 0.3195\n",
      "Epoch 45/100\n",
      "27600/27600 [==============================] - 34s 1ms/step - loss: 0.2162 - val_loss: 0.3287\n",
      "Epoch 46/100\n",
      " 9728/27600 [=========>....................] - ETA: 19s - loss: 0.2009"
     ]
    },
    {
     "ename": "KeyboardInterrupt",
     "evalue": "",
     "output_type": "error",
     "traceback": [
      "\u001b[1;31m---------------------------------------------------------------------------\u001b[0m",
      "\u001b[1;31mKeyboardInterrupt\u001b[0m                         Traceback (most recent call last)",
      "\u001b[1;32m<ipython-input-43-f0b238ad90a2>\u001b[0m in \u001b[0;36m<module>\u001b[1;34m\u001b[0m\n\u001b[0;32m      1\u001b[0m history_lstm = model.fit(xtrain_pad, y=ytrain_enc, \n\u001b[1;32m----> 2\u001b[1;33m                          batch_size=512, epochs=100, verbose=1, validation_data=(xvalid_pad, yvalid_enc))\n\u001b[0m",
      "\u001b[1;32m~\\Anaconda3\\envs\\tf_gpu\\lib\\site-packages\\keras\\engine\\training.py\u001b[0m in \u001b[0;36mfit\u001b[1;34m(self, x, y, batch_size, epochs, verbose, callbacks, validation_split, validation_data, shuffle, class_weight, sample_weight, initial_epoch, steps_per_epoch, validation_steps, validation_freq, max_queue_size, workers, use_multiprocessing, **kwargs)\u001b[0m\n\u001b[0;32m   1237\u001b[0m                                         \u001b[0msteps_per_epoch\u001b[0m\u001b[1;33m=\u001b[0m\u001b[0msteps_per_epoch\u001b[0m\u001b[1;33m,\u001b[0m\u001b[1;33m\u001b[0m\u001b[1;33m\u001b[0m\u001b[0m\n\u001b[0;32m   1238\u001b[0m                                         \u001b[0mvalidation_steps\u001b[0m\u001b[1;33m=\u001b[0m\u001b[0mvalidation_steps\u001b[0m\u001b[1;33m,\u001b[0m\u001b[1;33m\u001b[0m\u001b[1;33m\u001b[0m\u001b[0m\n\u001b[1;32m-> 1239\u001b[1;33m                                         validation_freq=validation_freq)\n\u001b[0m\u001b[0;32m   1240\u001b[0m \u001b[1;33m\u001b[0m\u001b[0m\n\u001b[0;32m   1241\u001b[0m     def evaluate(self,\n",
      "\u001b[1;32m~\\Anaconda3\\envs\\tf_gpu\\lib\\site-packages\\keras\\engine\\training_arrays.py\u001b[0m in \u001b[0;36mfit_loop\u001b[1;34m(model, fit_function, fit_inputs, out_labels, batch_size, epochs, verbose, callbacks, val_function, val_inputs, shuffle, initial_epoch, steps_per_epoch, validation_steps, validation_freq)\u001b[0m\n\u001b[0;32m    194\u001b[0m                     \u001b[0mins_batch\u001b[0m\u001b[1;33m[\u001b[0m\u001b[0mi\u001b[0m\u001b[1;33m]\u001b[0m \u001b[1;33m=\u001b[0m \u001b[0mins_batch\u001b[0m\u001b[1;33m[\u001b[0m\u001b[0mi\u001b[0m\u001b[1;33m]\u001b[0m\u001b[1;33m.\u001b[0m\u001b[0mtoarray\u001b[0m\u001b[1;33m(\u001b[0m\u001b[1;33m)\u001b[0m\u001b[1;33m\u001b[0m\u001b[1;33m\u001b[0m\u001b[0m\n\u001b[0;32m    195\u001b[0m \u001b[1;33m\u001b[0m\u001b[0m\n\u001b[1;32m--> 196\u001b[1;33m                 \u001b[0mouts\u001b[0m \u001b[1;33m=\u001b[0m \u001b[0mfit_function\u001b[0m\u001b[1;33m(\u001b[0m\u001b[0mins_batch\u001b[0m\u001b[1;33m)\u001b[0m\u001b[1;33m\u001b[0m\u001b[1;33m\u001b[0m\u001b[0m\n\u001b[0m\u001b[0;32m    197\u001b[0m                 \u001b[0mouts\u001b[0m \u001b[1;33m=\u001b[0m \u001b[0mto_list\u001b[0m\u001b[1;33m(\u001b[0m\u001b[0mouts\u001b[0m\u001b[1;33m)\u001b[0m\u001b[1;33m\u001b[0m\u001b[1;33m\u001b[0m\u001b[0m\n\u001b[0;32m    198\u001b[0m                 \u001b[1;32mfor\u001b[0m \u001b[0ml\u001b[0m\u001b[1;33m,\u001b[0m \u001b[0mo\u001b[0m \u001b[1;32min\u001b[0m \u001b[0mzip\u001b[0m\u001b[1;33m(\u001b[0m\u001b[0mout_labels\u001b[0m\u001b[1;33m,\u001b[0m \u001b[0mouts\u001b[0m\u001b[1;33m)\u001b[0m\u001b[1;33m:\u001b[0m\u001b[1;33m\u001b[0m\u001b[1;33m\u001b[0m\u001b[0m\n",
      "\u001b[1;32m~\\Anaconda3\\envs\\tf_gpu\\lib\\site-packages\\tensorflow_core\\python\\keras\\backend.py\u001b[0m in \u001b[0;36m__call__\u001b[1;34m(self, inputs)\u001b[0m\n\u001b[0;32m   3738\u001b[0m         \u001b[0mvalue\u001b[0m \u001b[1;33m=\u001b[0m \u001b[0mmath_ops\u001b[0m\u001b[1;33m.\u001b[0m\u001b[0mcast\u001b[0m\u001b[1;33m(\u001b[0m\u001b[0mvalue\u001b[0m\u001b[1;33m,\u001b[0m \u001b[0mtensor\u001b[0m\u001b[1;33m.\u001b[0m\u001b[0mdtype\u001b[0m\u001b[1;33m)\u001b[0m\u001b[1;33m\u001b[0m\u001b[1;33m\u001b[0m\u001b[0m\n\u001b[0;32m   3739\u001b[0m       \u001b[0mconverted_inputs\u001b[0m\u001b[1;33m.\u001b[0m\u001b[0mappend\u001b[0m\u001b[1;33m(\u001b[0m\u001b[0mvalue\u001b[0m\u001b[1;33m)\u001b[0m\u001b[1;33m\u001b[0m\u001b[1;33m\u001b[0m\u001b[0m\n\u001b[1;32m-> 3740\u001b[1;33m     \u001b[0moutputs\u001b[0m \u001b[1;33m=\u001b[0m \u001b[0mself\u001b[0m\u001b[1;33m.\u001b[0m\u001b[0m_graph_fn\u001b[0m\u001b[1;33m(\u001b[0m\u001b[1;33m*\u001b[0m\u001b[0mconverted_inputs\u001b[0m\u001b[1;33m)\u001b[0m\u001b[1;33m\u001b[0m\u001b[1;33m\u001b[0m\u001b[0m\n\u001b[0m\u001b[0;32m   3741\u001b[0m \u001b[1;33m\u001b[0m\u001b[0m\n\u001b[0;32m   3742\u001b[0m     \u001b[1;31m# EagerTensor.numpy() will often make a copy to ensure memory safety.\u001b[0m\u001b[1;33m\u001b[0m\u001b[1;33m\u001b[0m\u001b[1;33m\u001b[0m\u001b[0m\n",
      "\u001b[1;32m~\\Anaconda3\\envs\\tf_gpu\\lib\\site-packages\\tensorflow_core\\python\\eager\\function.py\u001b[0m in \u001b[0;36m__call__\u001b[1;34m(self, *args, **kwargs)\u001b[0m\n\u001b[0;32m   1079\u001b[0m       \u001b[0mTypeError\u001b[0m\u001b[1;33m:\u001b[0m \u001b[0mFor\u001b[0m \u001b[0minvalid\u001b[0m \u001b[0mpositional\u001b[0m\u001b[1;33m/\u001b[0m\u001b[0mkeyword\u001b[0m \u001b[0margument\u001b[0m \u001b[0mcombinations\u001b[0m\u001b[1;33m.\u001b[0m\u001b[1;33m\u001b[0m\u001b[1;33m\u001b[0m\u001b[0m\n\u001b[0;32m   1080\u001b[0m     \"\"\"\n\u001b[1;32m-> 1081\u001b[1;33m     \u001b[1;32mreturn\u001b[0m \u001b[0mself\u001b[0m\u001b[1;33m.\u001b[0m\u001b[0m_call_impl\u001b[0m\u001b[1;33m(\u001b[0m\u001b[0margs\u001b[0m\u001b[1;33m,\u001b[0m \u001b[0mkwargs\u001b[0m\u001b[1;33m)\u001b[0m\u001b[1;33m\u001b[0m\u001b[1;33m\u001b[0m\u001b[0m\n\u001b[0m\u001b[0;32m   1082\u001b[0m \u001b[1;33m\u001b[0m\u001b[0m\n\u001b[0;32m   1083\u001b[0m   \u001b[1;32mdef\u001b[0m \u001b[0m_call_impl\u001b[0m\u001b[1;33m(\u001b[0m\u001b[0mself\u001b[0m\u001b[1;33m,\u001b[0m \u001b[0margs\u001b[0m\u001b[1;33m,\u001b[0m \u001b[0mkwargs\u001b[0m\u001b[1;33m,\u001b[0m \u001b[0mcancellation_manager\u001b[0m\u001b[1;33m=\u001b[0m\u001b[1;32mNone\u001b[0m\u001b[1;33m)\u001b[0m\u001b[1;33m:\u001b[0m\u001b[1;33m\u001b[0m\u001b[1;33m\u001b[0m\u001b[0m\n",
      "\u001b[1;32m~\\Anaconda3\\envs\\tf_gpu\\lib\\site-packages\\tensorflow_core\\python\\eager\\function.py\u001b[0m in \u001b[0;36m_call_impl\u001b[1;34m(self, args, kwargs, cancellation_manager)\u001b[0m\n\u001b[0;32m   1119\u001b[0m       raise TypeError(\"Keyword arguments {} unknown. Expected {}.\".format(\n\u001b[0;32m   1120\u001b[0m           list(kwargs.keys()), list(self._arg_keywords)))\n\u001b[1;32m-> 1121\u001b[1;33m     \u001b[1;32mreturn\u001b[0m \u001b[0mself\u001b[0m\u001b[1;33m.\u001b[0m\u001b[0m_call_flat\u001b[0m\u001b[1;33m(\u001b[0m\u001b[0margs\u001b[0m\u001b[1;33m,\u001b[0m \u001b[0mself\u001b[0m\u001b[1;33m.\u001b[0m\u001b[0mcaptured_inputs\u001b[0m\u001b[1;33m,\u001b[0m \u001b[0mcancellation_manager\u001b[0m\u001b[1;33m)\u001b[0m\u001b[1;33m\u001b[0m\u001b[1;33m\u001b[0m\u001b[0m\n\u001b[0m\u001b[0;32m   1122\u001b[0m \u001b[1;33m\u001b[0m\u001b[0m\n\u001b[0;32m   1123\u001b[0m   \u001b[1;32mdef\u001b[0m \u001b[0m_filtered_call\u001b[0m\u001b[1;33m(\u001b[0m\u001b[0mself\u001b[0m\u001b[1;33m,\u001b[0m \u001b[0margs\u001b[0m\u001b[1;33m,\u001b[0m \u001b[0mkwargs\u001b[0m\u001b[1;33m)\u001b[0m\u001b[1;33m:\u001b[0m\u001b[1;33m\u001b[0m\u001b[1;33m\u001b[0m\u001b[0m\n",
      "\u001b[1;32m~\\Anaconda3\\envs\\tf_gpu\\lib\\site-packages\\tensorflow_core\\python\\eager\\function.py\u001b[0m in \u001b[0;36m_call_flat\u001b[1;34m(self, args, captured_inputs, cancellation_manager)\u001b[0m\n\u001b[0;32m   1222\u001b[0m     \u001b[1;32mif\u001b[0m \u001b[0mexecuting_eagerly\u001b[0m\u001b[1;33m:\u001b[0m\u001b[1;33m\u001b[0m\u001b[1;33m\u001b[0m\u001b[0m\n\u001b[0;32m   1223\u001b[0m       flat_outputs = forward_function.call(\n\u001b[1;32m-> 1224\u001b[1;33m           ctx, args, cancellation_manager=cancellation_manager)\n\u001b[0m\u001b[0;32m   1225\u001b[0m     \u001b[1;32melse\u001b[0m\u001b[1;33m:\u001b[0m\u001b[1;33m\u001b[0m\u001b[1;33m\u001b[0m\u001b[0m\n\u001b[0;32m   1226\u001b[0m       \u001b[0mgradient_name\u001b[0m \u001b[1;33m=\u001b[0m \u001b[0mself\u001b[0m\u001b[1;33m.\u001b[0m\u001b[0m_delayed_rewrite_functions\u001b[0m\u001b[1;33m.\u001b[0m\u001b[0mregister\u001b[0m\u001b[1;33m(\u001b[0m\u001b[1;33m)\u001b[0m\u001b[1;33m\u001b[0m\u001b[1;33m\u001b[0m\u001b[0m\n",
      "\u001b[1;32m~\\Anaconda3\\envs\\tf_gpu\\lib\\site-packages\\tensorflow_core\\python\\eager\\function.py\u001b[0m in \u001b[0;36mcall\u001b[1;34m(self, ctx, args, cancellation_manager)\u001b[0m\n\u001b[0;32m    509\u001b[0m               \u001b[0minputs\u001b[0m\u001b[1;33m=\u001b[0m\u001b[0margs\u001b[0m\u001b[1;33m,\u001b[0m\u001b[1;33m\u001b[0m\u001b[1;33m\u001b[0m\u001b[0m\n\u001b[0;32m    510\u001b[0m               \u001b[0mattrs\u001b[0m\u001b[1;33m=\u001b[0m\u001b[1;33m(\u001b[0m\u001b[1;34m\"executor_type\"\u001b[0m\u001b[1;33m,\u001b[0m \u001b[0mexecutor_type\u001b[0m\u001b[1;33m,\u001b[0m \u001b[1;34m\"config_proto\"\u001b[0m\u001b[1;33m,\u001b[0m \u001b[0mconfig\u001b[0m\u001b[1;33m)\u001b[0m\u001b[1;33m,\u001b[0m\u001b[1;33m\u001b[0m\u001b[1;33m\u001b[0m\u001b[0m\n\u001b[1;32m--> 511\u001b[1;33m               ctx=ctx)\n\u001b[0m\u001b[0;32m    512\u001b[0m         \u001b[1;32melse\u001b[0m\u001b[1;33m:\u001b[0m\u001b[1;33m\u001b[0m\u001b[1;33m\u001b[0m\u001b[0m\n\u001b[0;32m    513\u001b[0m           outputs = execute.execute_with_cancellation(\n",
      "\u001b[1;32m~\\Anaconda3\\envs\\tf_gpu\\lib\\site-packages\\tensorflow_core\\python\\eager\\execute.py\u001b[0m in \u001b[0;36mquick_execute\u001b[1;34m(op_name, num_outputs, inputs, attrs, ctx, name)\u001b[0m\n\u001b[0;32m     59\u001b[0m     tensors = pywrap_tensorflow.TFE_Py_Execute(ctx._handle, device_name,\n\u001b[0;32m     60\u001b[0m                                                \u001b[0mop_name\u001b[0m\u001b[1;33m,\u001b[0m \u001b[0minputs\u001b[0m\u001b[1;33m,\u001b[0m \u001b[0mattrs\u001b[0m\u001b[1;33m,\u001b[0m\u001b[1;33m\u001b[0m\u001b[1;33m\u001b[0m\u001b[0m\n\u001b[1;32m---> 61\u001b[1;33m                                                num_outputs)\n\u001b[0m\u001b[0;32m     62\u001b[0m   \u001b[1;32mexcept\u001b[0m \u001b[0mcore\u001b[0m\u001b[1;33m.\u001b[0m\u001b[0m_NotOkStatusException\u001b[0m \u001b[1;32mas\u001b[0m \u001b[0me\u001b[0m\u001b[1;33m:\u001b[0m\u001b[1;33m\u001b[0m\u001b[1;33m\u001b[0m\u001b[0m\n\u001b[0;32m     63\u001b[0m     \u001b[1;32mif\u001b[0m \u001b[0mname\u001b[0m \u001b[1;32mis\u001b[0m \u001b[1;32mnot\u001b[0m \u001b[1;32mNone\u001b[0m\u001b[1;33m:\u001b[0m\u001b[1;33m\u001b[0m\u001b[1;33m\u001b[0m\u001b[0m\n",
      "\u001b[1;31mKeyboardInterrupt\u001b[0m: "
     ]
    }
   ],
   "source": [
    "history_lstm = model.fit(xtrain_pad, y=ytrain_enc, \n",
    "                         batch_size=512, epochs=100, verbose=1, validation_data=(xvalid_pad, yvalid_enc))"
   ]
  },
  {
   "cell_type": "markdown",
   "metadata": {},
   "source": [
    "- I stopped the training so that I can add Early Stopping to save time and prevent over fitting."
   ]
  },
  {
   "cell_type": "code",
   "execution_count": null,
   "metadata": {},
   "outputs": [],
   "source": [
    "print(history_lstm.history.keys())\n",
    "h = history_lstm\n",
    "import matplotlib.pyplot as plt\n",
    "# \"Loss\"\n",
    "plt.plot(h.history['loss'])\n",
    "plt.plot(h.history['val_loss'])\n",
    "plt.title('model loss')\n",
    "plt.ylabel('loss')\n",
    "plt.xlabel('epoch')\n",
    "plt.legend(['train', 'validation'], loc='upper right')\n",
    "plt.show()"
   ]
  },
  {
   "cell_type": "markdown",
   "metadata": {},
   "source": [
    "# LSTM with Early Stopping"
   ]
  },
  {
   "cell_type": "code",
   "execution_count": 35,
   "metadata": {},
   "outputs": [
    {
     "name": "stdout",
     "output_type": "stream",
     "text": [
      "Train on 27600 samples, validate on 2400 samples\n",
      "Epoch 1/100\n",
      "27600/27600 [==============================] - 100s 4ms/step - loss: 0.5737 - val_loss: 0.4485\n",
      "Epoch 2/100\n",
      "27600/27600 [==============================] - 99s 4ms/step - loss: 0.5104 - val_loss: 0.4101\n",
      "Epoch 3/100\n",
      "27600/27600 [==============================] - 105s 4ms/step - loss: 0.4657 - val_loss: 0.3655\n",
      "Epoch 4/100\n",
      "27600/27600 [==============================] - 96s 3ms/step - loss: 0.4262 - val_loss: 0.3406\n",
      "Epoch 5/100\n",
      "27600/27600 [==============================] - 101s 4ms/step - loss: 0.3944 - val_loss: 0.3267\n",
      "Epoch 6/100\n",
      "27600/27600 [==============================] - 107s 4ms/step - loss: 0.3709 - val_loss: 0.3261\n",
      "Epoch 7/100\n",
      "27600/27600 [==============================] - 107s 4ms/step - loss: 0.3505 - val_loss: 0.3222\n",
      "Epoch 8/100\n",
      "27600/27600 [==============================] - 111s 4ms/step - loss: 0.3356 - val_loss: 0.3003\n",
      "Epoch 9/100\n",
      "27600/27600 [==============================] - 109s 4ms/step - loss: 0.3236 - val_loss: 0.3010\n",
      "Epoch 10/100\n",
      "27600/27600 [==============================] - 111s 4ms/step - loss: 0.3092 - val_loss: 0.2977\n",
      "Epoch 11/100\n",
      "27600/27600 [==============================] - 105s 4ms/step - loss: 0.3008 - val_loss: 0.3079\n",
      "Epoch 12/100\n",
      "27600/27600 [==============================] - 109s 4ms/step - loss: 0.2891 - val_loss: 0.3159\n",
      "Epoch 13/100\n",
      "27600/27600 [==============================] - 130s 5ms/step - loss: 0.2764 - val_loss: 0.3072\n",
      "Epoch 14/100\n",
      "27600/27600 [==============================] - 167s 6ms/step - loss: 0.2675 - val_loss: 0.3085\n",
      "Epoch 15/100\n",
      "27600/27600 [==============================] - 204s 7ms/step - loss: 0.2543 - val_loss: 0.2976\n",
      "Epoch 16/100\n",
      "27600/27600 [==============================] - 224s 8ms/step - loss: 0.2424 - val_loss: 0.3178\n",
      "Epoch 17/100\n",
      "27600/27600 [==============================] - 223s 8ms/step - loss: 0.2336 - val_loss: 0.3170\n",
      "Epoch 18/100\n",
      "27600/27600 [==============================] - 247s 9ms/step - loss: 0.2309 - val_loss: 0.3343\n",
      "Epoch 19/100\n",
      "27600/27600 [==============================] - 98s 4ms/step - loss: 0.2124 - val_loss: 0.3375\n",
      "Epoch 20/100\n",
      "27600/27600 [==============================] - 100s 4ms/step - loss: 0.2043 - val_loss: 0.3286\n"
     ]
    }
   ],
   "source": [
    "# A simple LSTM with glove embeddings and two dense layers\n",
    "model = Sequential()\n",
    "model.add(Embedding(len(word_index) + 1,\n",
    "                     300,\n",
    "                     weights=[embedding_matrix],\n",
    "                     input_length=max_len,\n",
    "                     trainable=False))\n",
    "model.add(SpatialDropout1D(0.3))\n",
    "model.add(LSTM(300, dropout=0.3, recurrent_dropout=0.3))\n",
    "\n",
    "model.add(Dense(1024, activation='relu'))\n",
    "model.add(Dropout(0.4))\n",
    "model.add(Dense(512, activation='relu'))\n",
    "model.add(Dropout(0.4))\n",
    "model.add(Dense(128, activation='relu'))\n",
    "model.add(Dense(2))\n",
    "model.add(Activation('softmax'))\n",
    "model.compile(loss='binary_crossentropy', optimizer='adam')\n",
    "\n",
    "# Fit the model with early stopping callback\n",
    "earlystop = EarlyStopping(monitor='val_loss', min_delta=0, patience=3, verbose=0, mode='auto')\n",
    "history_lstm_es = model.fit(xtrain_pad, y=ytrain_enc, batch_size=128, epochs=100, \n",
    "          verbose=1, validation_data=(xvalid_pad, yvalid_enc), callbacks=[earlystop])"
   ]
  },
  {
   "cell_type": "code",
   "execution_count": 36,
   "metadata": {},
   "outputs": [
    {
     "name": "stdout",
     "output_type": "stream",
     "text": [
      "dict_keys(['val_loss', 'loss'])\n"
     ]
    },
    {
     "data": {
      "image/png": "[encoded data removed]",
      "text/plain": [
       "<Figure size 432x288 with 1 Axes>"
      ]
     },
     "metadata": {
      "needs_background": "light"
     },
     "output_type": "display_data"
    }
   ],
   "source": [
    "model_lstm = model\n",
    "print(history_lstm_es.history.keys())\n",
    "h = history_lstm_es\n",
    "import matplotlib.pyplot as plt\n",
    "# \"Loss\"\n",
    "plt.plot(h.history['loss'])\n",
    "plt.plot(h.history['val_loss'])\n",
    "plt.title('model loss')\n",
    "plt.ylabel('loss')\n",
    "plt.xlabel('epoch')\n",
    "plt.legend(['train', 'validation'], loc='upper right')\n",
    "plt.show()"
   ]
  },
  {
   "cell_type": "code",
   "execution_count": 38,
   "metadata": {},
   "outputs": [
    {
     "data": {
      "text/html": [
       "<div>\n",
       "<style scoped>\n",
       "    .dataframe tbody tr th:only-of-type {\n",
       "        vertical-align: middle;\n",
       "    }\n",
       "\n",
       "    .dataframe tbody tr th {\n",
       "        vertical-align: top;\n",
       "    }\n",
       "\n",
       "    .dataframe thead th {\n",
       "        text-align: right;\n",
       "    }\n",
       "</style>\n",
       "<table border=\"1\" class=\"dataframe\">\n",
       "  <thead>\n",
       "    <tr style=\"text-align: right;\">\n",
       "      <th></th>\n",
       "      <th>index</th>\n",
       "      <th>label</th>\n",
       "    </tr>\n",
       "  </thead>\n",
       "  <tbody>\n",
       "    <tr>\n",
       "      <th>0</th>\n",
       "      <td>0</td>\n",
       "      <td>0</td>\n",
       "    </tr>\n",
       "    <tr>\n",
       "      <th>1</th>\n",
       "      <td>1</td>\n",
       "      <td>1</td>\n",
       "    </tr>\n",
       "    <tr>\n",
       "      <th>2</th>\n",
       "      <td>2</td>\n",
       "      <td>1</td>\n",
       "    </tr>\n",
       "    <tr>\n",
       "      <th>3</th>\n",
       "      <td>3</td>\n",
       "      <td>0</td>\n",
       "    </tr>\n",
       "    <tr>\n",
       "      <th>4</th>\n",
       "      <td>4</td>\n",
       "      <td>0</td>\n",
       "    </tr>\n",
       "  </tbody>\n",
       "</table>\n",
       "</div>"
      ],
      "text/plain": [
       "   index  label\n",
       "0      0      0\n",
       "1      1      1\n",
       "2      2      1\n",
       "3      3      0\n",
       "4      4      0"
      ]
     },
     "execution_count": 38,
     "metadata": {},
     "output_type": "execute_result"
    }
   ],
   "source": [
    "y_pred = model.predict(xtest_pad)\n",
    "y_pred = np.array(y_pred)\n",
    "y_pred = np.argmax(y_pred,axis = 1)\n",
    "ans = []\n",
    "for i in range(len(y_pred)):\n",
    "    ans.append([i,y_pred[i]])\n",
    "p = pd.DataFrame(ans,columns=['index','label'])\n",
    "p.to_csv('lstm_submit.csv',index=False)\n",
    "p.head()"
   ]
  },
  {
   "cell_type": "code",
   "execution_count": 39,
   "metadata": {},
   "outputs": [
    {
     "name": "stdout",
     "output_type": "stream",
     "text": [
      "Successfully submitted to EX-MACHINA Final Online Round Question-2\n"
     ]
    },
    {
     "name": "stderr",
     "output_type": "stream",
     "text": [
      "\n",
      "  0%|          | 0.00/77.1k [00:00<?, ?B/s]\n",
      " 10%|#         | 8.00k/77.1k [00:00<00:02, 25.4kB/s]\n",
      "100%|##########| 77.1k/77.1k [00:06<00:00, 13.1kB/s]\n"
     ]
    }
   ],
   "source": [
    "!kaggle competitions submit -c ex-machina-question-2 -f lstm_submit.csv -m \"Simple LSTM on embeddings using maxlen = 200\""
   ]
  },
  {
   "cell_type": "markdown",
   "metadata": {},
   "source": [
    "# Bi-Directional LSTM"
   ]
  },
  {
   "cell_type": "code",
   "execution_count": 40,
   "metadata": {},
   "outputs": [
    {
     "name": "stdout",
     "output_type": "stream",
     "text": [
      "Model: \"sequential_5\"\n",
      "_________________________________________________________________\n",
      "Layer (type)                 Output Shape              Param #   \n",
      "=================================================================\n",
      "embedding_4 (Embedding)      (None, 200, 300)          15947100  \n",
      "_________________________________________________________________\n",
      "spatial_dropout1d_4 (Spatial (None, 200, 300)          0         \n",
      "_________________________________________________________________\n",
      "bidirectional_1 (Bidirection (None, 600)               1442400   \n",
      "_________________________________________________________________\n",
      "dense_16 (Dense)             (None, 512)               307712    \n",
      "_________________________________________________________________\n",
      "dropout_9 (Dropout)          (None, 512)               0         \n",
      "_________________________________________________________________\n",
      "dense_17 (Dense)             (None, 256)               131328    \n",
      "_________________________________________________________________\n",
      "dropout_10 (Dropout)         (None, 256)               0         \n",
      "_________________________________________________________________\n",
      "dense_18 (Dense)             (None, 2)                 514       \n",
      "_________________________________________________________________\n",
      "activation_5 (Activation)    (None, 2)                 0         \n",
      "=================================================================\n",
      "Total params: 17,829,054\n",
      "Trainable params: 1,881,954\n",
      "Non-trainable params: 15,947,100\n",
      "_________________________________________________________________\n",
      "Train on 27600 samples, validate on 2400 samples\n",
      "Epoch 1/20\n",
      "27600/27600 [==============================] - 169s 6ms/step - loss: 0.5729 - val_loss: 0.4819\n",
      "Epoch 2/20\n",
      "27600/27600 [==============================] - 177s 6ms/step - loss: 0.5023 - val_loss: 0.4043\n",
      "Epoch 3/20\n",
      "27600/27600 [==============================] - 179s 6ms/step - loss: 0.4593 - val_loss: 0.3596\n",
      "Epoch 4/20\n",
      "27600/27600 [==============================] - 159s 6ms/step - loss: 0.4212 - val_loss: 0.3477\n",
      "Epoch 5/20\n",
      "27600/27600 [==============================] - 169s 6ms/step - loss: 0.3934 - val_loss: 0.3262\n",
      "Epoch 6/20\n",
      "27600/27600 [==============================] - 184s 7ms/step - loss: 0.3731 - val_loss: 0.3143\n",
      "Epoch 7/20\n",
      "27600/27600 [==============================] - 168s 6ms/step - loss: 0.3566 - val_loss: 0.3107\n",
      "Epoch 8/20\n",
      "27600/27600 [==============================] - 164s 6ms/step - loss: 0.3395 - val_loss: 0.3005\n",
      "Epoch 9/20\n",
      "27600/27600 [==============================] - 164s 6ms/step - loss: 0.3224 - val_loss: 0.2957\n",
      "Epoch 10/20\n",
      "27600/27600 [==============================] - 161s 6ms/step - loss: 0.3090 - val_loss: 0.2995\n",
      "Epoch 11/20\n",
      "27600/27600 [==============================] - 435s 16ms/step - loss: 0.3028 - val_loss: 0.2933\n",
      "Epoch 12/20\n",
      "27600/27600 [==============================] - 443s 16ms/step - loss: 0.2852 - val_loss: 0.2848\n",
      "Epoch 13/20\n",
      "27600/27600 [==============================] - 159s 6ms/step - loss: 0.2765 - val_loss: 0.2867\n",
      "Epoch 14/20\n",
      "27600/27600 [==============================] - 169s 6ms/step - loss: 0.2638 - val_loss: 0.2953\n",
      "Epoch 15/20\n",
      "27600/27600 [==============================] - 170s 6ms/step - loss: 0.2510 - val_loss: 0.2964\n"
     ]
    }
   ],
   "source": [
    "# A simple bidirectional LSTM with glove embeddings and three dense layers\n",
    "model = Sequential()\n",
    "model.add(Embedding(len(word_index) + 1,\n",
    "                     300,\n",
    "                     weights=[embedding_matrix],\n",
    "                     input_length=max_len,\n",
    "                     trainable=False))\n",
    "model.add(SpatialDropout1D(0.3))\n",
    "model.add(Bidirectional(LSTM(300, dropout=0.3, recurrent_dropout=0.3)))\n",
    "\n",
    "model.add(Dense(512, activation='relu'))\n",
    "model.add(Dropout(0.4))\n",
    "\n",
    "model.add(Dense(256, activation='relu'))\n",
    "model.add(Dropout(0.4))\n",
    "\n",
    "model.add(Dense(2))\n",
    "model.add(Activation('sigmoid'))\n",
    "model.compile(loss='binary_crossentropy', optimizer='adam')\n",
    "model.summary()\n",
    "# Fit the model with early stopping callback\n",
    "earlystop = EarlyStopping(monitor='val_loss', min_delta=0, patience=3, verbose=0, mode='auto')\n",
    "history_bi_lstm = model.fit(xtrain_pad, y=ytrain_enc, batch_size=128, epochs=20, \n",
    "          verbose=1, validation_data=(xvalid_pad, yvalid_enc), callbacks=[earlystop])\n",
    "model_bi_lstm = model"
   ]
  },
  {
   "cell_type": "code",
   "execution_count": 42,
   "metadata": {},
   "outputs": [
    {
     "name": "stdout",
     "output_type": "stream",
     "text": [
      "dict_keys(['val_loss', 'loss'])\n"
     ]
    },
    {
     "data": {
      "image/png": "[encoded data removed]",
      "text/plain": [
       "<Figure size 432x288 with 1 Axes>"
      ]
     },
     "metadata": {
      "needs_background": "light"
     },
     "output_type": "display_data"
    }
   ],
   "source": [
    "print(history_bi_lstm.history.keys())\n",
    "h = history_bi_lstm\n",
    "import matplotlib.pyplot as plt\n",
    "# \"Loss\"\n",
    "plt.plot(h.history['loss'])\n",
    "plt.plot(h.history['val_loss'])\n",
    "plt.title('model loss')\n",
    "plt.ylabel('loss')\n",
    "plt.xlabel('epoch')\n",
    "plt.legend(['train', 'validation'], loc='upper right')\n",
    "plt.show()"
   ]
  },
  {
   "cell_type": "markdown",
   "metadata": {},
   "source": [
    "- As you can clearly see , we got a somewhat better results using Bi-Directional LSTM Layer compared to LSTM.\n",
    "- Training time increased by a factor of 1.5 time per epoch."
   ]
  },
  {
   "cell_type": "code",
   "execution_count": 43,
   "metadata": {},
   "outputs": [
    {
     "data": {
      "text/html": [
       "<div>\n",
       "<style scoped>\n",
       "    .dataframe tbody tr th:only-of-type {\n",
       "        vertical-align: middle;\n",
       "    }\n",
       "\n",
       "    .dataframe tbody tr th {\n",
       "        vertical-align: top;\n",
       "    }\n",
       "\n",
       "    .dataframe thead th {\n",
       "        text-align: right;\n",
       "    }\n",
       "</style>\n",
       "<table border=\"1\" class=\"dataframe\">\n",
       "  <thead>\n",
       "    <tr style=\"text-align: right;\">\n",
       "      <th></th>\n",
       "      <th>index</th>\n",
       "      <th>label</th>\n",
       "    </tr>\n",
       "  </thead>\n",
       "  <tbody>\n",
       "    <tr>\n",
       "      <th>0</th>\n",
       "      <td>0</td>\n",
       "      <td>0</td>\n",
       "    </tr>\n",
       "    <tr>\n",
       "      <th>1</th>\n",
       "      <td>1</td>\n",
       "      <td>1</td>\n",
       "    </tr>\n",
       "    <tr>\n",
       "      <th>2</th>\n",
       "      <td>2</td>\n",
       "      <td>1</td>\n",
       "    </tr>\n",
       "    <tr>\n",
       "      <th>3</th>\n",
       "      <td>3</td>\n",
       "      <td>0</td>\n",
       "    </tr>\n",
       "    <tr>\n",
       "      <th>4</th>\n",
       "      <td>4</td>\n",
       "      <td>0</td>\n",
       "    </tr>\n",
       "  </tbody>\n",
       "</table>\n",
       "</div>"
      ],
      "text/plain": [
       "   index  label\n",
       "0      0      0\n",
       "1      1      1\n",
       "2      2      1\n",
       "3      3      0\n",
       "4      4      0"
      ]
     },
     "execution_count": 43,
     "metadata": {},
     "output_type": "execute_result"
    }
   ],
   "source": [
    "y_pred = model.predict(xtest_pad)\n",
    "y_pred = np.array(y_pred)\n",
    "y_pred = np.argmax(y_pred,axis = 1)\n",
    "ans = []\n",
    "for i in range(len(y_pred)):\n",
    "    ans.append([i,y_pred[i]])\n",
    "p = pd.DataFrame(ans,columns=['index','label'])\n",
    "p.to_csv('bi_lstm_submit.csv',index=False)\n",
    "p.head()"
   ]
  },
  {
   "cell_type": "code",
   "execution_count": 44,
   "metadata": {},
   "outputs": [
    {
     "name": "stdout",
     "output_type": "stream",
     "text": [
      "Successfully submitted to EX-MACHINA Final Online Round Question-2\n"
     ]
    },
    {
     "name": "stderr",
     "output_type": "stream",
     "text": [
      "\n",
      "  0%|          | 0.00/77.1k [00:00<?, ?B/s]\n",
      " 10%|#         | 8.00k/77.1k [00:00<00:02, 29.1kB/s]\n",
      "100%|##########| 77.1k/77.1k [00:11<00:00, 7.05kB/s]\n"
     ]
    }
   ],
   "source": [
    "!kaggle competitions submit -c ex-machina-question-2 -f bi_lstm_submit.csv -m \"Simple Bi-LSTM on embeddings using maxlen = 200\""
   ]
  },
  {
   "cell_type": "markdown",
   "metadata": {},
   "source": [
    "# Tf-idf"
   ]
  },
  {
   "cell_type": "code",
   "execution_count": 15,
   "metadata": {},
   "outputs": [],
   "source": [
    "from sklearn.feature_extraction.text import TfidfVectorizer\n",
    "# Always start with these features. They work (almost) everytime!\n",
    "tfv = TfidfVectorizer(min_df=3,  max_features=None, \n",
    "            strip_accents='unicode', analyzer='word',token_pattern=r'\\w{1,}',\n",
    "            ngram_range=(1, 3), use_idf=1,smooth_idf=1,sublinear_tf=1,\n",
    "            stop_words = 'english')\n",
    "\n",
    "# Fitting TF-IDF to both training and test sets (semi-supervised learning)\n",
    "tfv.fit(list(xtrain) + list(xvalid))\n",
    "xtrain_tfv =  tfv.transform(xtrain) \n",
    "xvalid_tfv = tfv.transform(xvalid)\n",
    "xtest_tfv = tfv.transform(xtest)"
   ]
  },
  {
   "cell_type": "code",
   "execution_count": 17,
   "metadata": {},
   "outputs": [
    {
     "name": "stdout",
     "output_type": "stream",
     "text": [
      "logloss: 0.331 \n"
     ]
    }
   ],
   "source": [
    "from sklearn.linear_model import LogisticRegression\n",
    "# Fitting a simple Logistic Regression on TFIDF\n",
    "clf = LogisticRegression(C=1.0)\n",
    "clf.fit(xtrain_tfv, ytrain)\n",
    "predictions = clf.predict_proba(xvalid_tfv)\n",
    "print (\"logloss: %0.3f \" % multiclass_logloss(yvalid, predictions))"
   ]
  },
  {
   "cell_type": "code",
   "execution_count": 18,
   "metadata": {},
   "outputs": [
    {
     "name": "stdout",
     "output_type": "stream",
     "text": [
      "[[0.98207591 0.01792409]\n",
      " [0.16826339 0.83173661]\n",
      " [0.2883991  0.7116009 ]\n",
      " [0.73511363 0.26488637]\n",
      " [0.6466277  0.3533723 ]]\n"
     ]
    }
   ],
   "source": [
    "y_pred =  clf.predict_proba(xtest_tfv)\n",
    "print(y_pred[:5])\n",
    "y_pred = np.array(y_pred)"
   ]
  },
  {
   "cell_type": "code",
   "execution_count": 19,
   "metadata": {},
   "outputs": [
    {
     "data": {
      "text/html": [
       "<div>\n",
       "<style scoped>\n",
       "    .dataframe tbody tr th:only-of-type {\n",
       "        vertical-align: middle;\n",
       "    }\n",
       "\n",
       "    .dataframe tbody tr th {\n",
       "        vertical-align: top;\n",
       "    }\n",
       "\n",
       "    .dataframe thead th {\n",
       "        text-align: right;\n",
       "    }\n",
       "</style>\n",
       "<table border=\"1\" class=\"dataframe\">\n",
       "  <thead>\n",
       "    <tr style=\"text-align: right;\">\n",
       "      <th></th>\n",
       "      <th>index</th>\n",
       "      <th>label</th>\n",
       "    </tr>\n",
       "  </thead>\n",
       "  <tbody>\n",
       "    <tr>\n",
       "      <th>0</th>\n",
       "      <td>0</td>\n",
       "      <td>0</td>\n",
       "    </tr>\n",
       "    <tr>\n",
       "      <th>1</th>\n",
       "      <td>1</td>\n",
       "      <td>1</td>\n",
       "    </tr>\n",
       "    <tr>\n",
       "      <th>2</th>\n",
       "      <td>2</td>\n",
       "      <td>1</td>\n",
       "    </tr>\n",
       "    <tr>\n",
       "      <th>3</th>\n",
       "      <td>3</td>\n",
       "      <td>0</td>\n",
       "    </tr>\n",
       "    <tr>\n",
       "      <th>4</th>\n",
       "      <td>4</td>\n",
       "      <td>0</td>\n",
       "    </tr>\n",
       "  </tbody>\n",
       "</table>\n",
       "</div>"
      ],
      "text/plain": [
       "   index  label\n",
       "0      0      0\n",
       "1      1      1\n",
       "2      2      1\n",
       "3      3      0\n",
       "4      4      0"
      ]
     },
     "execution_count": 19,
     "metadata": {},
     "output_type": "execute_result"
    }
   ],
   "source": [
    "y_pred = np.argmax(y_pred,axis = 1)\n",
    "ans = []\n",
    "for i in range(len(y_pred)):\n",
    "    ans.append([i,y_pred[i]])\n",
    "p = pd.DataFrame(ans,columns=['index','label'])\n",
    "p.to_csv('tfidf_submit.csv',index=False)\n",
    "p.head()"
   ]
  },
  {
   "cell_type": "code",
   "execution_count": 20,
   "metadata": {},
   "outputs": [
    {
     "name": "stdout",
     "output_type": "stream",
     "text": [
      "Successfully submitted to EX-MACHINA Final Online Round Question-2\n"
     ]
    },
    {
     "name": "stderr",
     "output_type": "stream",
     "text": [
      "\n",
      "  0%|          | 0.00/77.1k [00:00<?, ?B/s]\n",
      " 10%|#         | 8.00k/77.1k [00:00<00:03, 20.1kB/s]\n",
      "100%|##########| 77.1k/77.1k [00:08<00:00, 9.18kB/s]\n"
     ]
    }
   ],
   "source": [
    "!kaggle competitions submit -c ex-machina-question-2 -f tfidf_submit.csv -m \"Logistic regression on tfidf vectors\""
   ]
  },
  {
   "cell_type": "markdown",
   "metadata": {},
   "source": [
    "# CV"
   ]
  },
  {
   "cell_type": "code",
   "execution_count": 25,
   "metadata": {},
   "outputs": [],
   "source": [
    "from sklearn.feature_extraction.text import CountVectorizer\n",
    "ctv = CountVectorizer(analyzer='word',token_pattern=r'\\w{1,}',\n",
    "            ngram_range=(1, 3), stop_words = 'english')\n",
    "\n",
    "# Fitting Count Vectorizer to both training and test sets (semi-supervised learning)\n",
    "ctv.fit(list(xtrain) + list(xvalid))\n",
    "xtrain_ctv =  ctv.transform(xtrain) \n",
    "xvalid_ctv = ctv.transform(xvalid)\n",
    "xtest_ctv = ctv.transform(xtest)"
   ]
  },
  {
   "cell_type": "code",
   "execution_count": 55,
   "metadata": {},
   "outputs": [
    {
     "name": "stderr",
     "output_type": "stream",
     "text": [
      "C:\\Users\\Arush\\Anaconda3\\envs\\tf_gpu\\lib\\site-packages\\sklearn\\linear_model\\_logistic.py:940: ConvergenceWarning: lbfgs failed to converge (status=1):\n",
      "STOP: TOTAL NO. of ITERATIONS REACHED LIMIT.\n",
      "\n",
      "Increase the number of iterations (max_iter) or scale the data as shown in:\n",
      "    https://scikit-learn.org/stable/modules/preprocessing.html\n",
      "Please also refer to the documentation for alternative solver options:\n",
      "    https://scikit-learn.org/stable/modules/linear_model.html#logistic-regression\n",
      "  extra_warning_msg=_LOGISTIC_SOLVER_CONVERGENCE_MSG)\n"
     ]
    },
    {
     "name": "stdout",
     "output_type": "stream",
     "text": [
      "logloss: 0.333 \n"
     ]
    }
   ],
   "source": [
    "# Fitting a simple Logistic Regression on Counts\n",
    "clf = LogisticRegression(C=1.0)\n",
    "clf.fit(xtrain_ctv, ytrain)\n",
    "predictions = clf.predict_proba(xvalid_ctv)\n",
    "\n",
    "print (\"logloss: %0.3f \" % multiclass_logloss(yvalid, predictions))"
   ]
  },
  {
   "cell_type": "code",
   "execution_count": 58,
   "metadata": {},
   "outputs": [
    {
     "name": "stdout",
     "output_type": "stream",
     "text": [
      "[[9.99999999e-01 1.23794509e-09]\n",
      " [1.50619711e-06 9.99998494e-01]\n",
      " [2.87540230e-02 9.71245977e-01]\n",
      " [9.71358483e-01 2.86415169e-02]\n",
      " [9.45113826e-01 5.48861744e-02]]\n"
     ]
    },
    {
     "data": {
      "text/html": [
       "<div>\n",
       "<style scoped>\n",
       "    .dataframe tbody tr th:only-of-type {\n",
       "        vertical-align: middle;\n",
       "    }\n",
       "\n",
       "    .dataframe tbody tr th {\n",
       "        vertical-align: top;\n",
       "    }\n",
       "\n",
       "    .dataframe thead th {\n",
       "        text-align: right;\n",
       "    }\n",
       "</style>\n",
       "<table border=\"1\" class=\"dataframe\">\n",
       "  <thead>\n",
       "    <tr style=\"text-align: right;\">\n",
       "      <th></th>\n",
       "      <th>index</th>\n",
       "      <th>label</th>\n",
       "    </tr>\n",
       "  </thead>\n",
       "  <tbody>\n",
       "    <tr>\n",
       "      <th>0</th>\n",
       "      <td>0</td>\n",
       "      <td>0</td>\n",
       "    </tr>\n",
       "    <tr>\n",
       "      <th>1</th>\n",
       "      <td>1</td>\n",
       "      <td>1</td>\n",
       "    </tr>\n",
       "    <tr>\n",
       "      <th>2</th>\n",
       "      <td>2</td>\n",
       "      <td>1</td>\n",
       "    </tr>\n",
       "    <tr>\n",
       "      <th>3</th>\n",
       "      <td>3</td>\n",
       "      <td>0</td>\n",
       "    </tr>\n",
       "    <tr>\n",
       "      <th>4</th>\n",
       "      <td>4</td>\n",
       "      <td>0</td>\n",
       "    </tr>\n",
       "  </tbody>\n",
       "</table>\n",
       "</div>"
      ],
      "text/plain": [
       "   index  label\n",
       "0      0      0\n",
       "1      1      1\n",
       "2      2      1\n",
       "3      3      0\n",
       "4      4      0"
      ]
     },
     "execution_count": 58,
     "metadata": {},
     "output_type": "execute_result"
    }
   ],
   "source": [
    "y_pred =  clf.predict_proba(xtest_ctv)\n",
    "print(y_pred[:5])\n",
    "y_pred = np.array(y_pred)\n",
    "y_pred = np.argmax(y_pred,axis = 1)\n",
    "ans = []\n",
    "for i in range(len(y_pred)):\n",
    "    ans.append([i,y_pred[i]])\n",
    "p = pd.DataFrame(ans,columns=['index','label'])\n",
    "p.to_csv('cv_submit.csv',index=False)\n",
    "p.head()"
   ]
  },
  {
   "cell_type": "code",
   "execution_count": 1,
   "metadata": {},
   "outputs": [
    {
     "name": "stdout",
     "output_type": "stream",
     "text": [
      "Successfully submitted to EX-MACHINA Final Online Round Question-2\n"
     ]
    },
    {
     "name": "stderr",
     "output_type": "stream",
     "text": [
      "\n",
      "  0%|          | 0.00/77.1k [00:00<?, ?B/s]\n",
      " 10%|#         | 8.00k/77.1k [00:00<00:03, 22.8kB/s]\n",
      "100%|##########| 77.1k/77.1k [00:09<00:00, 7.96kB/s]\n"
     ]
    }
   ],
   "source": [
    "!kaggle competitions submit -c ex-machina-question-2 -f cv_submit.csv -m \"Logistic regression on cv vectors\""
   ]
  },
  {
   "cell_type": "code",
   "execution_count": 56,
   "metadata": {},
   "outputs": [
    {
     "name": "stdout",
     "output_type": "stream",
     "text": [
      "TF-IDF\n",
      "(27600, 229922) (2400, 229922)\n",
      "Cv\n",
      "(27600, 4590549) (2400, 4590549)\n"
     ]
    }
   ],
   "source": [
    "print('TF-IDF')\n",
    "print(xtrain_tfv.shape,xvalid_tfv.shape)\n",
    "print('Cv')\n",
    "print(xtrain_ctv.shape,xvalid_ctv.shape)"
   ]
  },
  {
   "cell_type": "code",
   "execution_count": null,
   "metadata": {},
   "outputs": [],
   "source": [
    "from sklearn import preprocessing, decomposition\n",
    "# Apply SVD, I chose 120 components. 120-200 components are good enough for SVM model.\n",
    "svd = decomposition.TruncatedSVD(n_components=120)\n",
    "svd.fit(xtrain_tfv)\n",
    "xtrain_svd = svd.transform(xtrain_tfv)\n",
    "xvalid_svd = svd.transform(xvalid_tfv)\n",
    "xtest_svd = svd.transform(xtest_tfv)\n",
    "\n",
    "# Scale the data obtained from SVD. Renaming variable to reuse without scaling.\n",
    "scl = preprocessing.StandardScaler()\n",
    "scl.fit(xtrain_svd)\n",
    "xtrain_svd_scl = scl.transform(xtrain_svd)\n",
    "xvalid_svd_scl = scl.transform(xvalid_svd)\n",
    "xtest_svd_scl = scl.transform(xtest_svd)"
   ]
  },
  {
   "cell_type": "markdown",
   "metadata": {},
   "source": [
    "# XGBoost"
   ]
  },
  {
   "cell_type": "code",
   "execution_count": 21,
   "metadata": {},
   "outputs": [
    {
     "name": "stdout",
     "output_type": "stream",
     "text": [
      "logloss: 0.347 \n"
     ]
    }
   ],
   "source": [
    "import xgboost as xgb\n",
    "# Fitting a simple xgboost on tf-idf\n",
    "clf = xgb.XGBClassifier(max_depth=7, n_estimators=200, colsample_bytree=0.8, \n",
    "                        subsample=0.8, nthread=10, learning_rate=0.1)\n",
    "clf.fit(xtrain_tfv.tocsc(), ytrain)\n",
    "predictions = clf.predict_proba(xvalid_tfv.tocsc())\n",
    "\n",
    "print (\"logloss: %0.3f \" % multiclass_logloss(yvalid, predictions))"
   ]
  },
  {
   "cell_type": "code",
   "execution_count": 22,
   "metadata": {},
   "outputs": [
    {
     "name": "stdout",
     "output_type": "stream",
     "text": [
      "[[0.9964389  0.00356106]\n",
      " [0.21620667 0.78379333]\n",
      " [0.35251784 0.64748216]\n",
      " [0.73416924 0.26583076]\n",
      " [0.26693255 0.73306745]]\n"
     ]
    },
    {
     "data": {
      "text/html": [
       "<div>\n",
       "<style scoped>\n",
       "    .dataframe tbody tr th:only-of-type {\n",
       "        vertical-align: middle;\n",
       "    }\n",
       "\n",
       "    .dataframe tbody tr th {\n",
       "        vertical-align: top;\n",
       "    }\n",
       "\n",
       "    .dataframe thead th {\n",
       "        text-align: right;\n",
       "    }\n",
       "</style>\n",
       "<table border=\"1\" class=\"dataframe\">\n",
       "  <thead>\n",
       "    <tr style=\"text-align: right;\">\n",
       "      <th></th>\n",
       "      <th>index</th>\n",
       "      <th>label</th>\n",
       "    </tr>\n",
       "  </thead>\n",
       "  <tbody>\n",
       "    <tr>\n",
       "      <th>0</th>\n",
       "      <td>0</td>\n",
       "      <td>0</td>\n",
       "    </tr>\n",
       "    <tr>\n",
       "      <th>1</th>\n",
       "      <td>1</td>\n",
       "      <td>1</td>\n",
       "    </tr>\n",
       "    <tr>\n",
       "      <th>2</th>\n",
       "      <td>2</td>\n",
       "      <td>1</td>\n",
       "    </tr>\n",
       "    <tr>\n",
       "      <th>3</th>\n",
       "      <td>3</td>\n",
       "      <td>0</td>\n",
       "    </tr>\n",
       "    <tr>\n",
       "      <th>4</th>\n",
       "      <td>4</td>\n",
       "      <td>1</td>\n",
       "    </tr>\n",
       "  </tbody>\n",
       "</table>\n",
       "</div>"
      ],
      "text/plain": [
       "   index  label\n",
       "0      0      0\n",
       "1      1      1\n",
       "2      2      1\n",
       "3      3      0\n",
       "4      4      1"
      ]
     },
     "execution_count": 22,
     "metadata": {},
     "output_type": "execute_result"
    }
   ],
   "source": [
    "y_pred =  clf.predict_proba(xtest_tfv.tocsc())\n",
    "print(y_pred[:5])\n",
    "y_pred = np.array(y_pred)\n",
    "y_pred = np.argmax(y_pred,axis = 1)\n",
    "ans = []\n",
    "for i in range(len(y_pred)):\n",
    "    ans.append([i,y_pred[i]])\n",
    "p = pd.DataFrame(ans,columns=['index','label'])\n",
    "p.to_csv('tfidf_submit.csv',index=False)\n",
    "p.head()"
   ]
  },
  {
   "cell_type": "code",
   "execution_count": null,
   "metadata": {},
   "outputs": [],
   "source": [
    "!kaggle competitions submit -c ex-machina-question-2 -f tfidf_submit.csv -m \"XGBoost on tf-idf vectors\""
   ]
  },
  {
   "cell_type": "code",
   "execution_count": null,
   "metadata": {},
   "outputs": [],
   "source": [
    "# Fitting a simple xgboost on CountVectorizer\n",
    "clf = xgb.XGBClassifier(max_depth=7, n_estimators=200, colsample_bytree=0.8, \n",
    "                        subsample=0.8, nthread=10, learning_rate=0.1)\n",
    "clf.fit(xtrain_ctv.tocsc(), ytrain)\n",
    "predictions = clf.predict_proba(xvalid_ctv.tocsc())\n",
    "\n",
    "print (\"logloss: %0.3f \" % multiclass_logloss(yvalid, predictions))"
   ]
  },
  {
   "cell_type": "code",
   "execution_count": null,
   "metadata": {},
   "outputs": [],
   "source": [
    "y_pred =  clf.predict_proba(xtest_tfv.tocsc())\n",
    "print(y_pred[:5])\n",
    "y_pred = np.array(y_pred)\n",
    "y_pred = np.argmax(y_pred,axis = 1)\n",
    "ans = []\n",
    "for i in range(len(y_pred)):\n",
    "    ans.append([i,y_pred[i]])\n",
    "p = pd.DataFrame(ans,columns=['index','label'])\n",
    "p.to_csv('cv_xgboost_submit.csv',index=False)\n",
    "p.head()"
   ]
  },
  {
   "cell_type": "code",
   "execution_count": null,
   "metadata": {},
   "outputs": [],
   "source": [
    "!kaggle competitions submit -c ex-machina-question-2 -f cv_xgboost_submit.csv -m \"XGBoost on cv vectors\""
   ]
  },
  {
   "cell_type": "markdown",
   "metadata": {},
   "source": [
    "# CONCLUSIONS :\n",
    "## If you need to train fast and don't want to compromise with accuracy.Use XGBoost with tf-idf vectors or cv(Depends on your use case).\n",
    "## Else , I find Bidirectional Lstm are the best.\n",
    "\n",
    "- You can try some some more classifiers or hyperparameters and contribute here.\n",
    "- Made with love by **Aryan Agarwal**\n",
    "- Thanks to all the git-hub repos and kaggle grandmasters who teached me all this through there work."
   ]
  }
 ],
 "metadata": {
  "kernelspec": {
   "display_name": "Python 3",
   "language": "python",
   "name": "python3"
  },
  "language_info": {
   "codemirror_mode": {
    "name": "ipython",
    "version": 3
   },
   "file_extension": ".py",
   "mimetype": "text/x-python",
   "name": "python",
   "nbconvert_exporter": "python",
   "pygments_lexer": "ipython3",
   "version": "3.7.6"
  }
 },
 "nbformat": 4,
 "nbformat_minor": 4
}
